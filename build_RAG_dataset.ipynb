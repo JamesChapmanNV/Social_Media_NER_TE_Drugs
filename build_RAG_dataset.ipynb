{
 "cells": [
  {
   "cell_type": "code",
   "execution_count": 2,
   "metadata": {},
   "outputs": [
    {
     "data": {
      "text/plain": [
       "True"
      ]
     },
     "execution_count": 2,
     "metadata": {},
     "output_type": "execute_result"
    }
   ],
   "source": [
    "import os\n",
    "import json\n",
    "import csv\n",
    "import re\n",
    "import ftfy\n",
    "import time\n",
    "import pandas as pd\n",
    "import pubchempy as pcp\n",
    "\n",
    "from openai import OpenAI\n",
    "from anthropic import Anthropic\n",
    "\n",
    "from fuzzywuzzy import process\n",
    "from tqdm import tqdm\n",
    "from dotenv import load_dotenv\n",
    "tqdm.pandas()\n",
    "load_dotenv() \n",
    "\n"
   ]
  },
  {
   "cell_type": "markdown",
   "metadata": {},
   "source": [
    "Shared substances of interest. Flattened, removed duplicates, etc."
   ]
  },
  {
   "cell_type": "code",
   "execution_count": 2,
   "metadata": {},
   "outputs": [
    {
     "data": {
      "text/html": [
       "<div>\n",
       "<style scoped>\n",
       "    .dataframe tbody tr th:only-of-type {\n",
       "        vertical-align: middle;\n",
       "    }\n",
       "\n",
       "    .dataframe tbody tr th {\n",
       "        vertical-align: top;\n",
       "    }\n",
       "\n",
       "    .dataframe thead th {\n",
       "        text-align: right;\n",
       "    }\n",
       "</style>\n",
       "<table border=\"1\" class=\"dataframe\">\n",
       "  <thead>\n",
       "    <tr style=\"text-align: right;\">\n",
       "      <th></th>\n",
       "      <th>drug</th>\n",
       "    </tr>\n",
       "  </thead>\n",
       "  <tbody>\n",
       "    <tr>\n",
       "      <th>0</th>\n",
       "      <td>2,6-Xylidine</td>\n",
       "    </tr>\n",
       "    <tr>\n",
       "      <th>1</th>\n",
       "      <td>2-amino-5-chloropyridine</td>\n",
       "    </tr>\n",
       "    <tr>\n",
       "      <th>2</th>\n",
       "      <td>2-fluoro-2-oxo PCE</td>\n",
       "    </tr>\n",
       "    <tr>\n",
       "      <th>3</th>\n",
       "      <td>2-Oxo-3-hydroxy-LSD</td>\n",
       "    </tr>\n",
       "    <tr>\n",
       "      <th>4</th>\n",
       "      <td>3-hydroxy flubromazepam</td>\n",
       "    </tr>\n",
       "    <tr>\n",
       "      <th>...</th>\n",
       "      <td>...</td>\n",
       "    </tr>\n",
       "    <tr>\n",
       "      <th>72</th>\n",
       "      <td>Speciociliatine</td>\n",
       "    </tr>\n",
       "    <tr>\n",
       "      <th>73</th>\n",
       "      <td>Temazepam</td>\n",
       "    </tr>\n",
       "    <tr>\n",
       "      <th>74</th>\n",
       "      <td>Xylazine</td>\n",
       "    </tr>\n",
       "    <tr>\n",
       "      <th>75</th>\n",
       "      <td>Zolpidem</td>\n",
       "    </tr>\n",
       "    <tr>\n",
       "      <th>76</th>\n",
       "      <td>Zopiclone</td>\n",
       "    </tr>\n",
       "  </tbody>\n",
       "</table>\n",
       "<p>77 rows × 1 columns</p>\n",
       "</div>"
      ],
      "text/plain": [
       "                         drug\n",
       "0                2,6-Xylidine\n",
       "1   2-amino-5-chloropyridine \n",
       "2          2-fluoro-2-oxo PCE\n",
       "3         2-Oxo-3-hydroxy-LSD\n",
       "4     3-hydroxy flubromazepam\n",
       "..                        ...\n",
       "72           Speciociliatine \n",
       "73                  Temazepam\n",
       "74                   Xylazine\n",
       "75                  Zolpidem \n",
       "76                  Zopiclone\n",
       "\n",
       "[77 rows x 1 columns]"
      ]
     },
     "execution_count": 2,
     "metadata": {},
     "output_type": "execute_result"
    }
   ],
   "source": [
    "substances_of_interest_file = r\"C:\\Users\\James\\OneDrive\\Kansas State University\\CIS 830\\Project_SparKG\\data\\drugs_of_interest_list.csv\"\n",
    "substances_of_interest = pd.read_csv(substances_of_interest_file, encoding=\"utf-8-sig\")\n",
    "substances_of_interest"
   ]
  },
  {
   "cell_type": "markdown",
   "metadata": {},
   "source": [
    "PubChem Synonym set"
   ]
  },
  {
   "cell_type": "code",
   "execution_count": 3,
   "metadata": {},
   "outputs": [
    {
     "name": "stdout",
     "output_type": "stream",
     "text": [
      "6896\n",
      "['2,6-Dimethylaniline', '87-62-7', '2,6-XYLIDINE', 'o-Xylidine', '2-Amino-m-xylene', '2,6-Dimethylbenzenamine', 'Benzenamine, 2,6-dimethyl-', '2-Amino-1,3-dimethylbenzene', '2-Amino-1,3-xylene', '2,6-Dimethylphenylamine', '2,6-Xylylamine', '1-Amino-2,6-dimethylbenzene', 'Aniline, 2,6-dimethyl-', 'NCI-C56188', 'vic-m-xylidine', 'NSC 7098', 'DTXSID8026307', '2,6-Dimethyl-aniline', 'MFCD00007747', '4FT62OX08D', 'CHEBI:28738', '2,6-DMA', 'NSC-7098', 'DTXCID006307', 'CAS-87-62-7', 'CCRIS 2373', 'HSDB 2094', 'Benzene, 2-amino-1,3-dimethyl-', 'EINECS 201-758-7', 'BRN 0636332', 'UNII-4FT62OX08D', 'AI3-52358', '2,6 dimethylaniline', '2.6-dimethylaniline', 'Aniline,6-dimethyl-', '2,6 dimethyl aniline', '2,6-dimethyl aniline', 'Benzenamine,6-dimethyl-', '2,6-dimethylbenzeneamine', '2,6-dimethyl-phenylamine', '2,6-dimethyl benzeneamine', '(2,6-dimethylphenyl)amine', 'EC 201-758-7', 'XYLIDENE, 2,6-', '2,6-Dimethylaniline, 99%', '4-12-00-02521 (Beilstein Handbook Reference)', 'SCHEMBL106244', 'WLN: ZR B1 F1', '(2,6-dimethyl-phenyl)-amine', '2,6-XYLIDINE [HSDB]', 'CHEMBL1340793', 'NSC7098', 'STR00521', '2,6-DIMETHYLANILINE [IARC]', 'Tox21_201426', 'Tox21_300055', 'STL281861', 'AKOS000120115', 'FD22351', 'PS-3428', 'XYLIDINE 2,6-DIMETHYLBENZENAMINE', '2,6-Dimethylaniline, analytical standard', 'NCGC00091576-01', 'NCGC00091576-02', 'NCGC00091576-03', 'NCGC00254105-01', 'NCGC00258977-01', 'AC-11240', 'PD065540', 'LIDOCAINE IMPURITY A [EP IMPURITY]', '2,6-DIMETHYLANILINE [USP IMPURITY]', 'DB-027693', 'CS-0012942', 'D0669', 'NS00008896', 'EN300-17976', 'XYLIDINE 2,6-DIMETHYLBENZENAMINE [MI]', '2,6-Dimethylaniline, purum, >=98.0% (GC)', '2,6-Dimethylaniline 100 microg/mL in Isooctane', 'A842302', 'Q4353533', '1-Amino-2,6-dimethylbenzene;Xylylamine;2,6-Xylidine', 'XYLAZINE HYDROCHLORIDE IMPURITY A [EP IMPURITY]', 'Z57127391', '2,6-Dimethylaniline, PESTANAL(R), analytical standard', 'F2190-0466', 'LIDOCAINE HYDROCHLORIDE IMPURITY A [EP IMPURITY]', 'BUPIVACAINE HYDROCHLORIDE IMPURITY F [EP IMPURITY]', 'MEPIVACAINE HYDROCHLORIDE IMPURITY A [EP IMPURITY]', 'Bupivacaine impurity F, European Pharmacopoeia (EP) Reference Standard', 'InChI=1/C8H11N/c1-6-4-3-5-7(2)8(6)9/h3-5H,9H2,1-2H', 'ROPIVACAINE HYDROCHLORIDE MONOHYDRATE IMPURITY H [EP IMPURITY]']\n"
     ]
    }
   ],
   "source": [
    "synonyms = pcp.get_synonyms(\"2,6-Xylidine\", \"name\")\n",
    "print(synonyms[0][\"CID\"])\n",
    "print(synonyms[0][\"Synonym\"])"
   ]
  },
  {
   "cell_type": "code",
   "execution_count": 4,
   "metadata": {},
   "outputs": [
    {
     "data": {
      "text/html": [
       "<div>\n",
       "<style scoped>\n",
       "    .dataframe tbody tr th:only-of-type {\n",
       "        vertical-align: middle;\n",
       "    }\n",
       "\n",
       "    .dataframe tbody tr th {\n",
       "        vertical-align: top;\n",
       "    }\n",
       "\n",
       "    .dataframe thead th {\n",
       "        text-align: right;\n",
       "    }\n",
       "</style>\n",
       "<table border=\"1\" class=\"dataframe\">\n",
       "  <thead>\n",
       "    <tr style=\"text-align: right;\">\n",
       "      <th></th>\n",
       "      <th>drug</th>\n",
       "      <th>CID</th>\n",
       "      <th>pubchem_synonyms</th>\n",
       "    </tr>\n",
       "  </thead>\n",
       "  <tbody>\n",
       "    <tr>\n",
       "      <th>0</th>\n",
       "      <td>2,6-Xylidine</td>\n",
       "      <td>6896</td>\n",
       "      <td>[2,6-Dimethylaniline, 87-62-7, 2,6-XYLIDINE, o...</td>\n",
       "    </tr>\n",
       "    <tr>\n",
       "      <th>1</th>\n",
       "      <td>2-amino-5-chloropyridine</td>\n",
       "      <td>66174</td>\n",
       "      <td>[2-Amino-5-chloropyridine, 1072-98-6, 5-chloro...</td>\n",
       "    </tr>\n",
       "    <tr>\n",
       "      <th>2</th>\n",
       "      <td>2-fluoro-2-oxo PCE</td>\n",
       "      <td>None</td>\n",
       "      <td>None</td>\n",
       "    </tr>\n",
       "    <tr>\n",
       "      <th>3</th>\n",
       "      <td>2-Oxo-3-hydroxy-LSD</td>\n",
       "      <td>10155149</td>\n",
       "      <td>[2-Oxo-3-hydroxy-lysergide, 2-Oxo-3-hydroxy-LS...</td>\n",
       "    </tr>\n",
       "    <tr>\n",
       "      <th>4</th>\n",
       "      <td>3-hydroxy flubromazepam</td>\n",
       "      <td>13126012</td>\n",
       "      <td>[3-hydroxy Flubromazepam, 3-Hydroxyflubromazep...</td>\n",
       "    </tr>\n",
       "    <tr>\n",
       "      <th>...</th>\n",
       "      <td>...</td>\n",
       "      <td>...</td>\n",
       "      <td>...</td>\n",
       "    </tr>\n",
       "    <tr>\n",
       "      <th>72</th>\n",
       "      <td>Speciociliatine</td>\n",
       "      <td>15560576</td>\n",
       "      <td>[Speciociliatine, 14382-79-7, Speciociliatin, ...</td>\n",
       "    </tr>\n",
       "    <tr>\n",
       "      <th>73</th>\n",
       "      <td>Temazepam</td>\n",
       "      <td>5391</td>\n",
       "      <td>[temazepam, Restoril, Hydroxydiazepam, Methylo...</td>\n",
       "    </tr>\n",
       "    <tr>\n",
       "      <th>74</th>\n",
       "      <td>Xylazine</td>\n",
       "      <td>5707</td>\n",
       "      <td>[xylazine, 7361-61-7, N-(2,6-Dimethylphenyl)-5...</td>\n",
       "    </tr>\n",
       "    <tr>\n",
       "      <th>75</th>\n",
       "      <td>Zolpidem</td>\n",
       "      <td>5732</td>\n",
       "      <td>[zolpidem, 82626-48-0, Zolpidemum, Zolpidemum ...</td>\n",
       "    </tr>\n",
       "    <tr>\n",
       "      <th>76</th>\n",
       "      <td>Zopiclone</td>\n",
       "      <td>5735</td>\n",
       "      <td>[zopiclone, 43200-80-2, Imovane, Zimovane, Amo...</td>\n",
       "    </tr>\n",
       "  </tbody>\n",
       "</table>\n",
       "<p>77 rows × 3 columns</p>\n",
       "</div>"
      ],
      "text/plain": [
       "                         drug       CID  \\\n",
       "0                2,6-Xylidine      6896   \n",
       "1   2-amino-5-chloropyridine      66174   \n",
       "2          2-fluoro-2-oxo PCE      None   \n",
       "3         2-Oxo-3-hydroxy-LSD  10155149   \n",
       "4     3-hydroxy flubromazepam  13126012   \n",
       "..                        ...       ...   \n",
       "72           Speciociliatine   15560576   \n",
       "73                  Temazepam      5391   \n",
       "74                   Xylazine      5707   \n",
       "75                  Zolpidem       5732   \n",
       "76                  Zopiclone      5735   \n",
       "\n",
       "                                     pubchem_synonyms  \n",
       "0   [2,6-Dimethylaniline, 87-62-7, 2,6-XYLIDINE, o...  \n",
       "1   [2-Amino-5-chloropyridine, 1072-98-6, 5-chloro...  \n",
       "2                                                None  \n",
       "3   [2-Oxo-3-hydroxy-lysergide, 2-Oxo-3-hydroxy-LS...  \n",
       "4   [3-hydroxy Flubromazepam, 3-Hydroxyflubromazep...  \n",
       "..                                                ...  \n",
       "72  [Speciociliatine, 14382-79-7, Speciociliatin, ...  \n",
       "73  [temazepam, Restoril, Hydroxydiazepam, Methylo...  \n",
       "74  [xylazine, 7361-61-7, N-(2,6-Dimethylphenyl)-5...  \n",
       "75  [zolpidem, 82626-48-0, Zolpidemum, Zolpidemum ...  \n",
       "76  [zopiclone, 43200-80-2, Imovane, Zimovane, Amo...  \n",
       "\n",
       "[77 rows x 3 columns]"
      ]
     },
     "execution_count": 4,
     "metadata": {},
     "output_type": "execute_result"
    }
   ],
   "source": [
    "substances_of_interest[\"CID\"] = None\n",
    "substances_of_interest[\"pubchem_synonyms\"] = None\n",
    "\n",
    "def fetch_pubchem_info(drug_name):\n",
    "    try:\n",
    "        results = pcp.get_synonyms(drug_name, \"name\")\n",
    "        if results:\n",
    "            cid = results[0].get(\"CID\", None)\n",
    "            synonyms = results[0].get(\"Synonym\", None)\n",
    "            return cid, synonyms\n",
    "    except Exception as e:\n",
    "        print(f\"Error retrieving data for '{drug_name}': {e}\")\n",
    "    return None, None\n",
    "\n",
    "# Iterate through each row of the DataFrame and add PubChem data\n",
    "for index, row in substances_of_interest.iterrows():\n",
    "    drug_name = row[\"drug\"].strip()  \n",
    "    cid, synonyms = fetch_pubchem_info(drug_name)\n",
    "    substances_of_interest.at[index, \"CID\"] = cid\n",
    "    substances_of_interest.at[index, \"pubchem_synonyms\"] = synonyms\n",
    "\n",
    "substances_of_interest"
   ]
  },
  {
   "cell_type": "code",
   "execution_count": 5,
   "metadata": {},
   "outputs": [
    {
     "name": "stdout",
     "output_type": "stream",
     "text": [
      "                                   drug   CID pubchem_synonyms\n",
      "2                    2-fluoro-2-oxo PCE  None             None\n",
      "5   3-hydroxy flubromazepam glucuronide  None             None\n",
      "7                               4-HIAA   None             None\n",
      "11                 7-OH-CBD glucuronide  None             None\n",
      "13                          8R-OH-R-HHC  None             None\n",
      "14                          8S-OH-R-HHC  None             None\n",
      "16              alpha-hydroxybromazolam  None             None\n",
      "25                     delta-8-THC-COOH  None             None\n",
      "26                     delta-9-THC-COOH  None             None\n",
      "37                                  MDA  None             None\n",
      "49               N-desethylmetonitazene  None             None\n",
      "57             N-Pyrrolidinoetonitazene  None             None\n",
      "64               para-Fluoronorfentanyl  None             None\n",
      "70                           R-HHC-COOH  None             None\n",
      "71                           S-HHC-COOH  None             None\n"
     ]
    }
   ],
   "source": [
    "none_results = substances_of_interest[\n",
    "    substances_of_interest[\"CID\"].isnull() | substances_of_interest[\"pubchem_synonyms\"].isnull()]\n",
    "\n",
    "print(none_results)"
   ]
  },
  {
   "cell_type": "code",
   "execution_count": null,
   "metadata": {},
   "outputs": [],
   "source": [
    "hand_picked_IDs_dictionary = {\n",
    "  \"2-fluoro-2-oxo PCE\": 168323041,\n",
    "  \"3-hydroxy flubromazepam glucuronide\": 13126012,\n",
    "  \"4-HIAA \": 7061393,\n",
    "  \"7-OH-CBD glucuronide\": 11301963,\n",
    "  \"8R-OH-R-HHC\": 168323034,\n",
    "#   \"8S-OH-R-HHC\": None,\n",
    "#   \"alpha-hydroxybromazolam\": None,\n",
    "  \"delta-8-THC-COOH\": 162389,\n",
    "  \"delta-9-THC-COOH\": 107885,\n",
    "  \"MDA\": 1614,\n",
    "#   \"N-desethylmetonitazene\": \"\",\n",
    "  \"N-Pyrrolidinoetonitazene\": 155804760,\n",
    "  \"para-Fluoronorfentanyl\": 10610682,\n",
    "#   \"R-HHC-COOH\": \"R-hexahydrocannabinol carboxylic acid\",\n",
    "#   \"S-HHC-COOH\": \"S-hexahydrocannabinol carboxylic acid\"\n",
    "}\n",
    "\n",
    "for drug, hand_picked_ID in hand_picked_IDs_dictionary.items():\n",
    "    hand_picked_ID = hand_picked_IDs_dictionary[drug]\n",
    "    compound = pcp.Compound.from_cid(hand_picked_ID)\n",
    "    synonyms = compound.synonyms\n",
    "    matching_rows = substances_of_interest[substances_of_interest[\"drug\"] == drug]\n",
    "    if not matching_rows.empty:\n",
    "        idx = matching_rows.index[0]\n",
    "        \n",
    "        substances_of_interest.at[idx, \"CID\"] = hand_picked_ID\n",
    "        substances_of_interest.at[idx, \"pubchem_synonyms\"] = synonyms"
   ]
  },
  {
   "cell_type": "code",
   "execution_count": 7,
   "metadata": {},
   "outputs": [
    {
     "name": "stdout",
     "output_type": "stream",
     "text": [
      "                       drug   CID pubchem_synonyms\n",
      "14              8S-OH-R-HHC  None             None\n",
      "16  alpha-hydroxybromazolam  None             None\n",
      "49   N-desethylmetonitazene  None             None\n",
      "70               R-HHC-COOH  None             None\n",
      "71               S-HHC-COOH  None             None\n"
     ]
    }
   ],
   "source": [
    "none_results = substances_of_interest[\n",
    "    substances_of_interest[\"CID\"].isnull() | substances_of_interest[\"pubchem_synonyms\"].isnull()]\n",
    "\n",
    "print(none_results)"
   ]
  },
  {
   "cell_type": "code",
   "execution_count": null,
   "metadata": {},
   "outputs": [
    {
     "name": "stdout",
     "output_type": "stream",
     "text": [
      "None\n",
      "8-bromo-1-methyl-6-phenyl-4H-[1,2,4]triazolo[4,3-a][1,4]benzodiazepine-4,5-diol\n",
      "2-[2-[[1-(3-methoxyphenyl)propan-2-yl]amino]ethyl]-5-nitro-1H-benzimidazole\n",
      "None\n",
      "(S)-7-Carboxy-Δ8-tetrahydrocannabinol\n"
     ]
    }
   ],
   "source": [
    "\n",
    "\n",
    "client = Anthropic(api_key=os.getenv('anthropic-first-key'))\n",
    "\n",
    "for drug in none_results[\"drug\"]:\n",
    "\n",
    "    prompt = f\"\"\"As a chemistry database expert, I need identification information for {drug}.\n",
    "                Please provide The official PubChem name used to identify the compound {drug}\n",
    "                that can be used for the PubChem API such as\n",
    "                \"\n",
    "                import pubchempy as pcp\n",
    "                results = pcp.get_synonyms(drug_name, \"name\")\n",
    "                \"\n",
    "                return the exact name with no other text. If you cannot find a match, return \"None\" with no other text.\"\"\"\n",
    "\n",
    "    response = client.messages.create(\n",
    "        model=\"claude-3-7-sonnet-20250219\",\n",
    "        max_tokens=1000,\n",
    "        messages=[\n",
    "            {\"role\": \"user\", \"content\": prompt}\n",
    "        ]\n",
    "    )\n",
    "\n",
    "    print(response.content[0].text)\n",
    "\n",
    "\n"
   ]
  },
  {
   "cell_type": "markdown",
   "metadata": {},
   "source": [
    "Prompt given by Dr. Hsu in 830 class"
   ]
  },
  {
   "cell_type": "code",
   "execution_count": 9,
   "metadata": {},
   "outputs": [
    {
     "name": "stdout",
     "output_type": "stream",
     "text": [
      "Below is one possible JSON‐representation covering the three main quasi‐psychedelic cannabinoids that occur naturally in cannabis. (Note that details on these substances vary between sources; the entries below are summaries based on the information collected on PsychonautWiki and related literature and are meant to serve as an example overview rather than an exhaustive, authoritative review.)\n",
      "\n",
      "[\n",
      "  {\n",
      "    \"Name\": \"Δ9-Tetrahydrocannabinol (Δ9-THC)\",\n",
      "    \"Known_Synonyms\": [\n",
      "      \"THC\",\n",
      "      \"Delta-9 THC\",\n",
      "      \"Δ9-THC\"\n",
      "    ],\n",
      "    \"Pharmacology\": \"Acts as a partial agonist at both CB1 and CB2 cannabinoid receptors. It modulates neurotransmitter release throughout the brain and is thought to interact with various non-cannabinoid receptor systems (e.g., GPR55). This receptor action underlies its psychoactive and analgesic properties.\",\n",
      "    \"Effects\": \"Produces euphoria, altered sensory perception, digital and time distortion, introspection, and in some cases anxiety or paranoia at higher doses. Its overall subjective effects are sometimes described as quasi‐psychedelic, meaning they may include elements similar to classical psychedelic experiences albeit in a milder form.\",\n",
      "    \"Toxicity_and_Harm_Potential\": \"Generally well tolerated in moderate doses with low acute toxicity, though high doses may lead to impairments (e.g., memory, coordination) and in vulnerable individuals can precipitate or worsen psychotic symptoms. Long‐term heavy use may be associated with cognitive changes as well as motivational and affective issues.\",\n",
      "    \"Legal_Status\": \"Regulated in most parts of the world. In many jurisdictions it is classified as a controlled substance, though some regions have legalized it for medicinal and/or recreational use under specific regulations.\"\n",
      "  },\n",
      "  {\n",
      "    \"Name\": \"Δ8-Tetrahydrocannabinol (Δ8-THC)\",\n",
      "    \"Known_Synonyms\": [\n",
      "      \"Delta-8 THC\",\n",
      "      \"Δ8-THC\"\n",
      "    ],\n",
      "    \"Pharmacology\": \"Similar in structure and receptor binding profile to Δ9-THC, but with generally lower affinity for CB1 receptors. This slight difference in affinity is thought to account for its somewhat milder psychoactive potency while still engaging the endocannabinoid system.\",\n",
      "    \"Effects\": \"Produces similar effects to Δ9-THC (e.g., relaxation, euphoria, altered sensory perception) though typically with reduced intensity and potentially lower incidence of anxiety. Some users report a clearer-headed or less sedative experience.\",\n",
      "    \"Toxicity_and_Harm_Potential\": \"The safety profile is considered similar to that of Δ9-THC—with a low acute toxicity. Its reduced potency may lower the risk of adverse effects in comparison, though dosing variability and product purity can be issues in unregulated contexts.\",\n",
      "    \"Legal_Status\": \"Legal status is complex and varies by jurisdiction. In some areas Δ8-THC is not explicitly scheduled and may be sold legally, while other regions treat it analogously to Δ9-THC under analogue or controlled substance laws.\"\n",
      "  },\n",
      "  {\n",
      "    \"Name\": \"Tetrahydrocannabivarin (THCV)\",\n",
      "    \"Known_Synonyms\": [\n",
      "      \"THCV\",\n",
      "      \"Delta-9-Tetrahydrocannabivarin\"\n",
      "    ],\n",
      "    \"Pharmacology\": \"Interacts with cannabinoid receptors, acting as a partial agonist at CB2 and exhibiting complex activity at CB1 – sometimes antagonistic at low doses and agonistic at higher doses. It may also affect other neurotransmitter systems indirectly, contributing to its unique profile.\",\n",
      "    \"Effects\": \"Often reported as producing a clearer, more energetic high with reduced sedation and, in some cases, appetite suppression. Users note a distinctive sensory modulation that differs from the classic cannabis high, lending it a quasi‐psychedelic character at certain doses.\",\n",
      "    \"Toxicity_and_Harm_Potential\": \"Current evidence suggests a low toxicity profile. However, comprehensive human studies are limited, and as with other cannabinoids, effects can vary considerably with dose and individual sensitivity.\",\n",
      "    \"Legal_Status\": \"Not scheduled as a distinct compound in many jurisdictions; however, because it is a constituent of cannabis, its legal status is often tied to broader cannabis regulation. In regulated cannabis markets, products high in THCV may be available under the same legal framework as those high in Δ9-THC.\"\n",
      "  }\n",
      "]\n",
      "\n",
      "Please note that both scientific understanding and legal regulation continue to evolve. Always consult current primary sources and legal texts when making research, clinical, or legal decisions regarding these substances.\n"
     ]
    }
   ],
   "source": [
    "\n",
    "client = OpenAI(api_key= os.getenv('First_Key') )\n",
    "\n",
    "response = client.responses.create(\n",
    "    model=\"o3-mini-2025-01-31\", #\"gpt-4o-mini\"\"o3-mini\"\n",
    "    input=\"For each of the quasi-psychedelic phytocannabinoids listed at \" \\\n",
    "    \"https://m.psychonautwiki.org/wiki/Psychoactive_substance_index , \" \\\n",
    "    \"provide the following in Json format: \" \\\n",
    "    \"Name, Known Synonyms, Pharmacology, Effects,Toxicity and Harm Potential, and Legal Status\"\n",
    ")\n",
    "\n",
    "print(response.output_text)\n"
   ]
  },
  {
   "cell_type": "code",
   "execution_count": null,
   "metadata": {},
   "outputs": [],
   "source": [
    "\n",
    "new_columns = [\n",
    "    \"psychonautwiki_Name\", \n",
    "    \"psychonautwiki_Synonyms\", \n",
    "    \"Pharmacology\", \n",
    "    \"Effects\", \n",
    "    \"Toxicity and Harm Potential\", \n",
    "    \"Legal Status\"\n",
    "]\n",
    "\n",
    "for col in new_columns:\n",
    "    substances_of_interest[col] = None\n",
    "\n",
    "for index, substance in substances_of_interest.iterrows():\n",
    "    drug_name = substance[\"drug\"]\n",
    "    CID = substance[\"CID\"]\n",
    "    pubchem_synonyms = substance[\"pubchem_synonyms\"]\n",
    "\n",
    "    prompt = (\n",
    "        f\"\"\"Determine if {drug_name} is a substance on this website https://m.psychonautwiki.org/wiki/Psychoactive_substance_index, \n",
    "        {drug_name} has a PubChem ID {CID} and the following synonyms: {pubchem_synonyms}\n",
    "        If there is information on psychonautwiki about this substance, provide the following information in Json format: \n",
    "        psychonautwiki_Name, psychonautwiki_Synonyms, Pharmacology, Effects, Toxicity and Harm Potential, and Legal Status. \n",
    "        DO NOT provide duplicate synonyms! \n",
    "        If psychonautwiki does not have information about {drug_name}, return just the word None\"\"\"\n",
    "    )\n",
    "\n",
    "    response = client.responses.create(\n",
    "        model=\"o3-mini-2025-01-31\",  \n",
    "        input=prompt\n",
    "    )\n",
    "    output_text = response.output_text.strip()\n",
    "    \n",
    "    try:\n",
    "        # if API returned \"None\". all new columns None.\n",
    "        if output_text.lower() == \"none\":\n",
    "            for col in new_columns:\n",
    "                substances_of_interest.at[index, col] = None\n",
    "        else:\n",
    "            result = json.loads(output_text)\n",
    "            if isinstance(result, dict):\n",
    "                for col in new_columns:\n",
    "                    substances_of_interest.at[index, col] = result.get(col, None)\n",
    "            else:\n",
    "                for col in new_columns:\n",
    "                    substances_of_interest.at[index, col] = None\n",
    "\n",
    "    except Exception as e:\n",
    "        for col in new_columns:\n",
    "            substances_of_interest.at[index, col] = None\n",
    "        print(f\"Error processing substance {drug_name}: {e}\")\n"
   ]
  },
  {
   "cell_type": "code",
   "execution_count": 11,
   "metadata": {},
   "outputs": [
    {
     "name": "stdout",
     "output_type": "stream",
     "text": [
      "<class 'pandas.core.frame.DataFrame'>\n",
      "RangeIndex: 77 entries, 0 to 76\n",
      "Data columns (total 9 columns):\n",
      " #   Column                       Non-Null Count  Dtype \n",
      "---  ------                       --------------  ----- \n",
      " 0   drug                         77 non-null     object\n",
      " 1   CID                          72 non-null     object\n",
      " 2   pubchem_synonyms             72 non-null     object\n",
      " 3   psychonautwiki_Name          38 non-null     object\n",
      " 4   psychonautwiki_Synonyms      38 non-null     object\n",
      " 5   Pharmacology                 38 non-null     object\n",
      " 6   Effects                      38 non-null     object\n",
      " 7   Toxicity and Harm Potential  38 non-null     object\n",
      " 8   Legal Status                 38 non-null     object\n",
      "dtypes: object(9)\n",
      "memory usage: 5.5+ KB\n"
     ]
    },
    {
     "data": {
      "text/html": [
       "<div>\n",
       "<style scoped>\n",
       "    .dataframe tbody tr th:only-of-type {\n",
       "        vertical-align: middle;\n",
       "    }\n",
       "\n",
       "    .dataframe tbody tr th {\n",
       "        vertical-align: top;\n",
       "    }\n",
       "\n",
       "    .dataframe thead th {\n",
       "        text-align: right;\n",
       "    }\n",
       "</style>\n",
       "<table border=\"1\" class=\"dataframe\">\n",
       "  <thead>\n",
       "    <tr style=\"text-align: right;\">\n",
       "      <th></th>\n",
       "      <th>drug</th>\n",
       "      <th>CID</th>\n",
       "      <th>pubchem_synonyms</th>\n",
       "      <th>psychonautwiki_Name</th>\n",
       "      <th>psychonautwiki_Synonyms</th>\n",
       "      <th>Pharmacology</th>\n",
       "      <th>Effects</th>\n",
       "      <th>Toxicity and Harm Potential</th>\n",
       "      <th>Legal Status</th>\n",
       "    </tr>\n",
       "  </thead>\n",
       "  <tbody>\n",
       "    <tr>\n",
       "      <th>0</th>\n",
       "      <td>2,6-Xylidine</td>\n",
       "      <td>6896</td>\n",
       "      <td>[2,6-Dimethylaniline, 87-62-7, 2,6-XYLIDINE, o...</td>\n",
       "      <td>None</td>\n",
       "      <td>None</td>\n",
       "      <td>None</td>\n",
       "      <td>None</td>\n",
       "      <td>None</td>\n",
       "      <td>None</td>\n",
       "    </tr>\n",
       "    <tr>\n",
       "      <th>1</th>\n",
       "      <td>2-amino-5-chloropyridine</td>\n",
       "      <td>66174</td>\n",
       "      <td>[2-Amino-5-chloropyridine, 1072-98-6, 5-chloro...</td>\n",
       "      <td>None</td>\n",
       "      <td>None</td>\n",
       "      <td>None</td>\n",
       "      <td>None</td>\n",
       "      <td>None</td>\n",
       "      <td>None</td>\n",
       "    </tr>\n",
       "    <tr>\n",
       "      <th>2</th>\n",
       "      <td>2-fluoro-2-oxo PCE</td>\n",
       "      <td>168323041</td>\n",
       "      <td>[2-fluoro-2-oxo PCE (hydrochloride), 2850352-6...</td>\n",
       "      <td>None</td>\n",
       "      <td>None</td>\n",
       "      <td>None</td>\n",
       "      <td>None</td>\n",
       "      <td>None</td>\n",
       "      <td>None</td>\n",
       "    </tr>\n",
       "    <tr>\n",
       "      <th>3</th>\n",
       "      <td>2-Oxo-3-hydroxy-LSD</td>\n",
       "      <td>10155149</td>\n",
       "      <td>[2-Oxo-3-hydroxy-lysergide, 2-Oxo-3-hydroxy-LS...</td>\n",
       "      <td>None</td>\n",
       "      <td>None</td>\n",
       "      <td>None</td>\n",
       "      <td>None</td>\n",
       "      <td>None</td>\n",
       "      <td>None</td>\n",
       "    </tr>\n",
       "    <tr>\n",
       "      <th>4</th>\n",
       "      <td>3-hydroxy flubromazepam</td>\n",
       "      <td>13126012</td>\n",
       "      <td>[3-hydroxy Flubromazepam, 3-Hydroxyflubromazep...</td>\n",
       "      <td>None</td>\n",
       "      <td>None</td>\n",
       "      <td>None</td>\n",
       "      <td>None</td>\n",
       "      <td>None</td>\n",
       "      <td>None</td>\n",
       "    </tr>\n",
       "    <tr>\n",
       "      <th>...</th>\n",
       "      <td>...</td>\n",
       "      <td>...</td>\n",
       "      <td>...</td>\n",
       "      <td>...</td>\n",
       "      <td>...</td>\n",
       "      <td>...</td>\n",
       "      <td>...</td>\n",
       "      <td>...</td>\n",
       "      <td>...</td>\n",
       "    </tr>\n",
       "    <tr>\n",
       "      <th>72</th>\n",
       "      <td>Speciociliatine</td>\n",
       "      <td>15560576</td>\n",
       "      <td>[Speciociliatine, 14382-79-7, Speciociliatin, ...</td>\n",
       "      <td>None</td>\n",
       "      <td>None</td>\n",
       "      <td>None</td>\n",
       "      <td>None</td>\n",
       "      <td>None</td>\n",
       "      <td>None</td>\n",
       "    </tr>\n",
       "    <tr>\n",
       "      <th>73</th>\n",
       "      <td>Temazepam</td>\n",
       "      <td>5391</td>\n",
       "      <td>[temazepam, Restoril, Hydroxydiazepam, Methylo...</td>\n",
       "      <td>Temazepam</td>\n",
       "      <td>[Restoril, Temtabs, Normison, Temaz]</td>\n",
       "      <td>Temazepam is a benzodiazepine that acts as a p...</td>\n",
       "      <td>Common effects include pronounced sedation, re...</td>\n",
       "      <td>Temazepam, like other benzodiazepines, carries...</td>\n",
       "      <td>Temazepam is a prescription medication in most...</td>\n",
       "    </tr>\n",
       "    <tr>\n",
       "      <th>74</th>\n",
       "      <td>Xylazine</td>\n",
       "      <td>5707</td>\n",
       "      <td>[xylazine, 7361-61-7, N-(2,6-Dimethylphenyl)-5...</td>\n",
       "      <td>Xylazine</td>\n",
       "      <td>[Rompun, Xilazina, Xylazin, Chanazine, Xylazinum]</td>\n",
       "      <td>Xylazine acts primarily as an α2-adrenergic re...</td>\n",
       "      <td>Users report sedation, marked drowsiness, anal...</td>\n",
       "      <td>Xylazine has a high toxicity risk when used ou...</td>\n",
       "      <td>Xylazine is not approved for human use and is ...</td>\n",
       "    </tr>\n",
       "    <tr>\n",
       "      <th>75</th>\n",
       "      <td>Zolpidem</td>\n",
       "      <td>5732</td>\n",
       "      <td>[zolpidem, 82626-48-0, Zolpidemum, Zolpidemum ...</td>\n",
       "      <td>Zolpidem</td>\n",
       "      <td>[Ambien, Stilnox]</td>\n",
       "      <td>Zolpidem is a nonbenzodiazepine hypnotic that ...</td>\n",
       "      <td>At therapeutic doses, zolpidem induces rapid s...</td>\n",
       "      <td>While effective for short-term treatment of in...</td>\n",
       "      <td>Zolpidem is a prescription drug and is classif...</td>\n",
       "    </tr>\n",
       "    <tr>\n",
       "      <th>76</th>\n",
       "      <td>Zopiclone</td>\n",
       "      <td>5735</td>\n",
       "      <td>[zopiclone, 43200-80-2, Imovane, Zimovane, Amo...</td>\n",
       "      <td>Zopiclone</td>\n",
       "      <td>[Zopiclone, Imovane, Zimovane, Amoban]</td>\n",
       "      <td>Zopiclone is a cyclopyrrolone derivative that ...</td>\n",
       "      <td>At therapeutic dosages, users experience sedat...</td>\n",
       "      <td>Although considered to have a relatively favor...</td>\n",
       "      <td>Zopiclone is a prescription-only medication in...</td>\n",
       "    </tr>\n",
       "  </tbody>\n",
       "</table>\n",
       "<p>77 rows × 9 columns</p>\n",
       "</div>"
      ],
      "text/plain": [
       "                         drug        CID  \\\n",
       "0                2,6-Xylidine       6896   \n",
       "1   2-amino-5-chloropyridine       66174   \n",
       "2          2-fluoro-2-oxo PCE  168323041   \n",
       "3         2-Oxo-3-hydroxy-LSD   10155149   \n",
       "4     3-hydroxy flubromazepam   13126012   \n",
       "..                        ...        ...   \n",
       "72           Speciociliatine    15560576   \n",
       "73                  Temazepam       5391   \n",
       "74                   Xylazine       5707   \n",
       "75                  Zolpidem        5732   \n",
       "76                  Zopiclone       5735   \n",
       "\n",
       "                                     pubchem_synonyms psychonautwiki_Name  \\\n",
       "0   [2,6-Dimethylaniline, 87-62-7, 2,6-XYLIDINE, o...                None   \n",
       "1   [2-Amino-5-chloropyridine, 1072-98-6, 5-chloro...                None   \n",
       "2   [2-fluoro-2-oxo PCE (hydrochloride), 2850352-6...                None   \n",
       "3   [2-Oxo-3-hydroxy-lysergide, 2-Oxo-3-hydroxy-LS...                None   \n",
       "4   [3-hydroxy Flubromazepam, 3-Hydroxyflubromazep...                None   \n",
       "..                                                ...                 ...   \n",
       "72  [Speciociliatine, 14382-79-7, Speciociliatin, ...                None   \n",
       "73  [temazepam, Restoril, Hydroxydiazepam, Methylo...           Temazepam   \n",
       "74  [xylazine, 7361-61-7, N-(2,6-Dimethylphenyl)-5...            Xylazine   \n",
       "75  [zolpidem, 82626-48-0, Zolpidemum, Zolpidemum ...            Zolpidem   \n",
       "76  [zopiclone, 43200-80-2, Imovane, Zimovane, Amo...           Zopiclone   \n",
       "\n",
       "                              psychonautwiki_Synonyms  \\\n",
       "0                                                None   \n",
       "1                                                None   \n",
       "2                                                None   \n",
       "3                                                None   \n",
       "4                                                None   \n",
       "..                                                ...   \n",
       "72                                               None   \n",
       "73               [Restoril, Temtabs, Normison, Temaz]   \n",
       "74  [Rompun, Xilazina, Xylazin, Chanazine, Xylazinum]   \n",
       "75                                  [Ambien, Stilnox]   \n",
       "76             [Zopiclone, Imovane, Zimovane, Amoban]   \n",
       "\n",
       "                                         Pharmacology  \\\n",
       "0                                                None   \n",
       "1                                                None   \n",
       "2                                                None   \n",
       "3                                                None   \n",
       "4                                                None   \n",
       "..                                                ...   \n",
       "72                                               None   \n",
       "73  Temazepam is a benzodiazepine that acts as a p...   \n",
       "74  Xylazine acts primarily as an α2-adrenergic re...   \n",
       "75  Zolpidem is a nonbenzodiazepine hypnotic that ...   \n",
       "76  Zopiclone is a cyclopyrrolone derivative that ...   \n",
       "\n",
       "                                              Effects  \\\n",
       "0                                                None   \n",
       "1                                                None   \n",
       "2                                                None   \n",
       "3                                                None   \n",
       "4                                                None   \n",
       "..                                                ...   \n",
       "72                                               None   \n",
       "73  Common effects include pronounced sedation, re...   \n",
       "74  Users report sedation, marked drowsiness, anal...   \n",
       "75  At therapeutic doses, zolpidem induces rapid s...   \n",
       "76  At therapeutic dosages, users experience sedat...   \n",
       "\n",
       "                          Toxicity and Harm Potential  \\\n",
       "0                                                None   \n",
       "1                                                None   \n",
       "2                                                None   \n",
       "3                                                None   \n",
       "4                                                None   \n",
       "..                                                ...   \n",
       "72                                               None   \n",
       "73  Temazepam, like other benzodiazepines, carries...   \n",
       "74  Xylazine has a high toxicity risk when used ou...   \n",
       "75  While effective for short-term treatment of in...   \n",
       "76  Although considered to have a relatively favor...   \n",
       "\n",
       "                                         Legal Status  \n",
       "0                                                None  \n",
       "1                                                None  \n",
       "2                                                None  \n",
       "3                                                None  \n",
       "4                                                None  \n",
       "..                                                ...  \n",
       "72                                               None  \n",
       "73  Temazepam is a prescription medication in most...  \n",
       "74  Xylazine is not approved for human use and is ...  \n",
       "75  Zolpidem is a prescription drug and is classif...  \n",
       "76  Zopiclone is a prescription-only medication in...  \n",
       "\n",
       "[77 rows x 9 columns]"
      ]
     },
     "execution_count": 11,
     "metadata": {},
     "output_type": "execute_result"
    }
   ],
   "source": [
    "substances_of_interest.info(verbose=True)\n",
    "substances_of_interest"
   ]
  },
  {
   "cell_type": "code",
   "execution_count": 12,
   "metadata": {},
   "outputs": [
    {
     "data": {
      "text/html": [
       "<div>\n",
       "<style scoped>\n",
       "    .dataframe tbody tr th:only-of-type {\n",
       "        vertical-align: middle;\n",
       "    }\n",
       "\n",
       "    .dataframe tbody tr th {\n",
       "        vertical-align: top;\n",
       "    }\n",
       "\n",
       "    .dataframe thead th {\n",
       "        text-align: right;\n",
       "    }\n",
       "</style>\n",
       "<table border=\"1\" class=\"dataframe\">\n",
       "  <thead>\n",
       "    <tr style=\"text-align: right;\">\n",
       "      <th></th>\n",
       "      <th>index_term</th>\n",
       "      <th>alt_term</th>\n",
       "    </tr>\n",
       "  </thead>\n",
       "  <tbody>\n",
       "    <tr>\n",
       "      <th>0</th>\n",
       "      <td>Acetaminophen and Oxycodone Combination (Perco...</td>\n",
       "      <td>512s; Bananas; Blue; Blue Dynamite; Blueberrie...</td>\n",
       "    </tr>\n",
       "    <tr>\n",
       "      <th>1</th>\n",
       "      <td>Alprazolam (Xanax®)</td>\n",
       "      <td>Bars; Benzos; Bicycle Handle Bars; Bicycle Par...</td>\n",
       "    </tr>\n",
       "    <tr>\n",
       "      <th>2</th>\n",
       "      <td>Amphetamine</td>\n",
       "      <td>Acelerador; Amy; Amps; Bam; B-Bombs; Beans; Be...</td>\n",
       "    </tr>\n",
       "    <tr>\n",
       "      <th>3</th>\n",
       "      <td>Amphetamine and Dextroamphetamine Combination ...</td>\n",
       "      <td>A-Train; Abby; Addy; Amps; Christmas Trees; Co...</td>\n",
       "    </tr>\n",
       "    <tr>\n",
       "      <th>4</th>\n",
       "      <td>Buprenorphine and Naloxone Combination (Suboxo...</td>\n",
       "      <td>Boxes, Bupes; Oranges; Sobos; Stop Signs; Stop...</td>\n",
       "    </tr>\n",
       "    <tr>\n",
       "      <th>5</th>\n",
       "      <td>Clonazepam (Klonopin®)</td>\n",
       "      <td>Benzos; K; K-Pin; Pin; Super Valium; Tranks</td>\n",
       "    </tr>\n",
       "    <tr>\n",
       "      <th>6</th>\n",
       "      <td>Cocaine</td>\n",
       "      <td>7; 62; 77; 777; 921; A-1; Adidas; All-American...</td>\n",
       "    </tr>\n",
       "    <tr>\n",
       "      <th>7</th>\n",
       "      <td>Crack Cocaine</td>\n",
       "      <td>51s; 151s; 501s; Apple Jack; Baby T; Base; Bas...</td>\n",
       "    </tr>\n",
       "    <tr>\n",
       "      <th>8</th>\n",
       "      <td>Ecstasy/MDMA/Molly</td>\n",
       "      <td>Adam; Baby Slits; Beans; Blue Kisses; Blue Sup...</td>\n",
       "    </tr>\n",
       "    <tr>\n",
       "      <th>9</th>\n",
       "      <td>Fentanyl and Fentanyl Derivatives</td>\n",
       "      <td>Apache; Birria (fentanyl mixed with heroin); B...</td>\n",
       "    </tr>\n",
       "    <tr>\n",
       "      <th>10</th>\n",
       "      <td>Flunitrazepam (Rohypnol®)</td>\n",
       "      <td>542; Circles; Date Rape Drug; Forget Pill; La ...</td>\n",
       "    </tr>\n",
       "    <tr>\n",
       "      <th>11</th>\n",
       "      <td>GHB (Gamma-Hydroxybutyric Acid)</td>\n",
       "      <td>Blowout; Bruno Mars; Cherry Meth; Easy Lay; Ev...</td>\n",
       "    </tr>\n",
       "    <tr>\n",
       "      <th>12</th>\n",
       "      <td>Heroin</td>\n",
       "      <td>Abajo; A-Bomb (heroin mixed with marijuana); A...</td>\n",
       "    </tr>\n",
       "    <tr>\n",
       "      <th>13</th>\n",
       "      <td>Hydrocodone (Norco®, Vicodin®, Lorcet®)</td>\n",
       "      <td>357s; Bananas; Dones , Dro; Droco; Fluff; Hydr...</td>\n",
       "    </tr>\n",
       "    <tr>\n",
       "      <th>14</th>\n",
       "      <td>Hydromorphone (Dilaudid®)</td>\n",
       "      <td>D; Dillies; K4; Needle Candy</td>\n",
       "    </tr>\n",
       "    <tr>\n",
       "      <th>15</th>\n",
       "      <td>Ketamine (Ketalar®)</td>\n",
       "      <td>Barry Farrell; Blind Squid; Cat Food; Cat Vali...</td>\n",
       "    </tr>\n",
       "    <tr>\n",
       "      <th>16</th>\n",
       "      <td>Khat</td>\n",
       "      <td>Abyssian Tea; African Salad; Catha; Chat; Kat;...</td>\n",
       "    </tr>\n",
       "    <tr>\n",
       "      <th>17</th>\n",
       "      <td>LSD (Lysergic Acid Diethylamide)</td>\n",
       "      <td>Aceite; Acelide; Acid; Acido; Alice; Angels in...</td>\n",
       "    </tr>\n",
       "    <tr>\n",
       "      <th>18</th>\n",
       "      <td>Marijuana</td>\n",
       "      <td>420; A-Bomb  (marijuana mixed with heroin); Ac...</td>\n",
       "    </tr>\n",
       "    <tr>\n",
       "      <th>19</th>\n",
       "      <td>Marijuana Concentrates/Hash Oil</td>\n",
       "      <td>710; BHNO; BHO; Black Glass; Bubble Hash; Budd...</td>\n",
       "    </tr>\n",
       "    <tr>\n",
       "      <th>20</th>\n",
       "      <td>Mescaline/Peyote</td>\n",
       "      <td>Big Chief; Black Button; Blue Caps; Britton; B...</td>\n",
       "    </tr>\n",
       "    <tr>\n",
       "      <th>21</th>\n",
       "      <td>Methamphetamine</td>\n",
       "      <td>Accordion; Amp; Aqua; Arroz; Assembled (crysta...</td>\n",
       "    </tr>\n",
       "    <tr>\n",
       "      <th>22</th>\n",
       "      <td>Methylphenidate (Ritalin®, Concerta®, Daytrana®)</td>\n",
       "      <td>Diet Coke; Jif; Johnny; Kibbles and Bits; Kidd...</td>\n",
       "    </tr>\n",
       "    <tr>\n",
       "      <th>23</th>\n",
       "      <td>Morphine</td>\n",
       "      <td>Dreamer; First Line; God’s Drug; Joy Juice; Mi...</td>\n",
       "    </tr>\n",
       "    <tr>\n",
       "      <th>24</th>\n",
       "      <td>Opium</td>\n",
       "      <td>Ah-Pen-Yen; Auntie; Aunt Emma; Big O; Black; B...</td>\n",
       "    </tr>\n",
       "    <tr>\n",
       "      <th>25</th>\n",
       "      <td>Oxycodone (Oxycontin®, Roxicodone®, Oxaydo®)</td>\n",
       "      <td>30s; 40s; 512s; Beans; Blues; Buttons; Cotton;...</td>\n",
       "    </tr>\n",
       "    <tr>\n",
       "      <th>26</th>\n",
       "      <td>PCP (Phencyclidine)</td>\n",
       "      <td>Ace; Alien Sex Fiend (PCP mixed with heroin); ...</td>\n",
       "    </tr>\n",
       "    <tr>\n",
       "      <th>27</th>\n",
       "      <td>Promethazine</td>\n",
       "      <td>Act; Drank; Juice; Lean; Orange Crush; Purple;...</td>\n",
       "    </tr>\n",
       "    <tr>\n",
       "      <th>28</th>\n",
       "      <td>Psilocybin Mushrooms</td>\n",
       "      <td>Alice; Blue Meanies; Boomers; Buttons; Caps; C...</td>\n",
       "    </tr>\n",
       "    <tr>\n",
       "      <th>29</th>\n",
       "      <td>Synthetic Cannabinoids</td>\n",
       "      <td>4-20; Abyss; Ace of Spades; AK-47; Amnesia; At...</td>\n",
       "    </tr>\n",
       "    <tr>\n",
       "      <th>30</th>\n",
       "      <td>Synthetic Cathinones</td>\n",
       "      <td>Bath Blow; Bath Salts; Bliss; Bloom; Blow; Blu...</td>\n",
       "    </tr>\n",
       "    <tr>\n",
       "      <th>31</th>\n",
       "      <td>Steroids</td>\n",
       "      <td>Arnolds; Gear; Gym Candy; Juice; Pumpers; Roid...</td>\n",
       "    </tr>\n",
       "    <tr>\n",
       "      <th>32</th>\n",
       "      <td>U-47700</td>\n",
       "      <td>Pink; Pinky; U4</td>\n",
       "    </tr>\n",
       "  </tbody>\n",
       "</table>\n",
       "</div>"
      ],
      "text/plain": [
       "                                           index_term  \\\n",
       "0   Acetaminophen and Oxycodone Combination (Perco...   \n",
       "1                                 Alprazolam (Xanax®)   \n",
       "2                                         Amphetamine   \n",
       "3   Amphetamine and Dextroamphetamine Combination ...   \n",
       "4   Buprenorphine and Naloxone Combination (Suboxo...   \n",
       "5                              Clonazepam (Klonopin®)   \n",
       "6                                             Cocaine   \n",
       "7                                       Crack Cocaine   \n",
       "8                                  Ecstasy/MDMA/Molly   \n",
       "9                   Fentanyl and Fentanyl Derivatives   \n",
       "10                          Flunitrazepam (Rohypnol®)   \n",
       "11                    GHB (Gamma-Hydroxybutyric Acid)   \n",
       "12                                             Heroin   \n",
       "13            Hydrocodone (Norco®, Vicodin®, Lorcet®)   \n",
       "14                          Hydromorphone (Dilaudid®)   \n",
       "15                                Ketamine (Ketalar®)   \n",
       "16                                               Khat   \n",
       "17                   LSD (Lysergic Acid Diethylamide)   \n",
       "18                                          Marijuana   \n",
       "19                    Marijuana Concentrates/Hash Oil   \n",
       "20                                   Mescaline/Peyote   \n",
       "21                                    Methamphetamine   \n",
       "22   Methylphenidate (Ritalin®, Concerta®, Daytrana®)   \n",
       "23                                           Morphine   \n",
       "24                                              Opium   \n",
       "25       Oxycodone (Oxycontin®, Roxicodone®, Oxaydo®)   \n",
       "26                                PCP (Phencyclidine)   \n",
       "27                                       Promethazine   \n",
       "28                               Psilocybin Mushrooms   \n",
       "29                             Synthetic Cannabinoids   \n",
       "30                               Synthetic Cathinones   \n",
       "31                                           Steroids   \n",
       "32                                            U-47700   \n",
       "\n",
       "                                             alt_term  \n",
       "0   512s; Bananas; Blue; Blue Dynamite; Blueberrie...  \n",
       "1   Bars; Benzos; Bicycle Handle Bars; Bicycle Par...  \n",
       "2   Acelerador; Amy; Amps; Bam; B-Bombs; Beans; Be...  \n",
       "3   A-Train; Abby; Addy; Amps; Christmas Trees; Co...  \n",
       "4   Boxes, Bupes; Oranges; Sobos; Stop Signs; Stop...  \n",
       "5         Benzos; K; K-Pin; Pin; Super Valium; Tranks  \n",
       "6   7; 62; 77; 777; 921; A-1; Adidas; All-American...  \n",
       "7   51s; 151s; 501s; Apple Jack; Baby T; Base; Bas...  \n",
       "8   Adam; Baby Slits; Beans; Blue Kisses; Blue Sup...  \n",
       "9   Apache; Birria (fentanyl mixed with heroin); B...  \n",
       "10  542; Circles; Date Rape Drug; Forget Pill; La ...  \n",
       "11  Blowout; Bruno Mars; Cherry Meth; Easy Lay; Ev...  \n",
       "12  Abajo; A-Bomb (heroin mixed with marijuana); A...  \n",
       "13  357s; Bananas; Dones , Dro; Droco; Fluff; Hydr...  \n",
       "14                       D; Dillies; K4; Needle Candy  \n",
       "15  Barry Farrell; Blind Squid; Cat Food; Cat Vali...  \n",
       "16  Abyssian Tea; African Salad; Catha; Chat; Kat;...  \n",
       "17  Aceite; Acelide; Acid; Acido; Alice; Angels in...  \n",
       "18  420; A-Bomb  (marijuana mixed with heroin); Ac...  \n",
       "19  710; BHNO; BHO; Black Glass; Bubble Hash; Budd...  \n",
       "20  Big Chief; Black Button; Blue Caps; Britton; B...  \n",
       "21  Accordion; Amp; Aqua; Arroz; Assembled (crysta...  \n",
       "22  Diet Coke; Jif; Johnny; Kibbles and Bits; Kidd...  \n",
       "23  Dreamer; First Line; God’s Drug; Joy Juice; Mi...  \n",
       "24  Ah-Pen-Yen; Auntie; Aunt Emma; Big O; Black; B...  \n",
       "25  30s; 40s; 512s; Beans; Blues; Buttons; Cotton;...  \n",
       "26  Ace; Alien Sex Fiend (PCP mixed with heroin); ...  \n",
       "27  Act; Drank; Juice; Lean; Orange Crush; Purple;...  \n",
       "28  Alice; Blue Meanies; Boomers; Buttons; Caps; C...  \n",
       "29  4-20; Abyss; Ace of Spades; AK-47; Amnesia; At...  \n",
       "30  Bath Blow; Bath Salts; Bliss; Bloom; Blow; Blu...  \n",
       "31  Arnolds; Gear; Gym Candy; Juice; Pumpers; Roid...  \n",
       "32                                    Pink; Pinky; U4  "
      ]
     },
     "execution_count": 12,
     "metadata": {},
     "output_type": "execute_result"
    }
   ],
   "source": [
    "\n",
    "DEA_drug_slang = pd.read_csv('drug_slang.csv', encoding='utf-8-sig')\n",
    "DEA_drug_slang\n"
   ]
  },
  {
   "cell_type": "code",
   "execution_count": null,
   "metadata": {},
   "outputs": [
    {
     "name": "stdout",
     "output_type": "stream",
     "text": [
      "------------------------------------------------------------\n",
      "Acetaminophen and Oxycodone Combination (Percocet®) | Oxycodone | 90\n",
      "Acetaminophen and Oxycodone Combination (Percocet®) | Noroxycodone | 75\n",
      "Acetaminophen and Oxycodone Combination (Percocet®) | Ketamine | 68\n",
      "------------------------------------------------------------\n",
      "Alprazolam (Xanax®) | Bromazolam | 63\n",
      "Alprazolam (Xanax®) | Lorazepam | 60\n",
      "------------------------------------------------------------\n",
      "Amphetamine | Amphetamine | 100\n",
      "Amphetamine | Methamphetamine | 85\n",
      "Amphetamine | Ketamine | 74\n",
      "------------------------------------------------------------\n",
      "Amphetamine and Dextroamphetamine Combination (Adderall®) | Amphetamine | 90\n",
      "Amphetamine and Dextroamphetamine Combination (Adderall®) | Ketamine | 79\n",
      "Amphetamine and Dextroamphetamine Combination (Adderall®) | Methamphetamine | 72\n",
      "------------------------------------------------------------\n",
      "Buprenorphine and Naloxone Combination (Suboxone®) | Buprenorphine | 90\n",
      "Buprenorphine and Naloxone Combination (Suboxone®) | Morphine | 79\n",
      "Buprenorphine and Naloxone Combination (Suboxone®) | Norbuprenorphine | 75\n",
      "------------------------------------------------------------\n",
      "Clonazepam (Klonopin®) | Lorazepam | 80\n",
      "Clonazepam (Klonopin®) | Oxazepam  | 79\n",
      "Clonazepam (Klonopin®) | Temazepam | 60\n",
      "------------------------------------------------------------\n",
      "Cocaine | Codeine | 71\n",
      "Cocaine | Benzoylecgonine | 64\n",
      "Cocaine | Speciociliatine  | 64\n",
      "------------------------------------------------------------\n",
      "Crack Cocaine | Codeine | 64\n",
      "------------------------------------------------------------\n",
      "Ecstasy/MDMA/Molly | MDMA | 90\n",
      "Ecstasy/MDMA/Molly | MDA | 60\n",
      "------------------------------------------------------------\n",
      "Fentanyl and Fentanyl Derivatives | Fentanyl | 90\n",
      "Fentanyl and Fentanyl Derivatives | Norfentanyl | 74\n",
      "Fentanyl and Fentanyl Derivatives | Carfentanil | 58\n",
      "------------------------------------------------------------\n",
      "Flunitrazepam (Rohypnol®) | Lorazepam | 70\n",
      "Flunitrazepam (Rohypnol®) | Temazepam | 70\n",
      "Flunitrazepam (Rohypnol®) | Flubromazepam | 69\n",
      "------------------------------------------------------------\n",
      "GHB (Gamma-Hydroxybutyric Acid) | MDMA | 68\n",
      "GHB (Gamma-Hydroxybutyric Acid) | 7-hydroxymitragynine | 54\n",
      "GHB (Gamma-Hydroxybutyric Acid) | MDMB-4en-PINACA butanoic acid | 54\n",
      "------------------------------------------------------------\n",
      "Heroin | Meperidine | 60\n",
      "Heroin | Normeperidine | 60\n",
      "------------------------------------------------------------\n",
      "Hydrocodone (Norco®, Vicodin®, Lorcet®) | Hydrocodone | 90\n",
      "Hydrocodone (Norco®, Vicodin®, Lorcet®) | Oxycodone | 70\n",
      "Hydrocodone (Norco®, Vicodin®, Lorcet®) | Codeine | 66\n",
      "------------------------------------------------------------\n",
      "Hydromorphone (Dilaudid®) | Hydromorphone | 90\n",
      "Hydromorphone (Dilaudid®) | Morphine | 79\n",
      "Hydromorphone (Dilaudid®) | Oxymorphone | 74\n",
      "------------------------------------------------------------\n",
      "Ketamine (Ketalar®) | Ketamine | 90\n",
      "Ketamine (Ketalar®) | Norketamine | 70\n",
      "Ketamine (Ketalar®) | Amphetamine | 62\n",
      "------------------------------------------------------------\n",
      "------------------------------------------------------------\n",
      "LSD (Lysergic Acid Diethylamide) | 2-Oxo-3-hydroxy-LSD | 86\n",
      "LSD (Lysergic Acid Diethylamide) | LSD | 60\n",
      "LSD (Lysergic Acid Diethylamide) | Diphenhydramine | 56\n",
      "------------------------------------------------------------\n",
      "Marijuana | MDA | 60\n",
      "------------------------------------------------------------\n",
      "Marijuana Concentrates/Hash Oil | S-HHC-COOH | 54\n",
      "Marijuana Concentrates/Hash Oil | Codeine | 51\n",
      "------------------------------------------------------------\n",
      "Mescaline/Peyote | Ketamine | 56\n",
      "Mescaline/Peyote | Pentylone | 53\n",
      "Mescaline/Peyote | Codeine | 51\n",
      "------------------------------------------------------------\n",
      "Methamphetamine | Methamphetamine | 100\n",
      "Methamphetamine | Amphetamine | 85\n",
      "Methamphetamine | Ketamine | 79\n",
      "------------------------------------------------------------\n",
      "Methylphenidate (Ritalin®, Concerta®, Daytrana®) | Methamphetamine | 54\n",
      "Methylphenidate (Ritalin®, Concerta®, Daytrana®) | N,N-dimethylpentylone | 54\n",
      "Methylphenidate (Ritalin®, Concerta®, Daytrana®) | Codeine | 51\n",
      "------------------------------------------------------------\n",
      "Morphine | Morphine | 100\n",
      "Morphine | 6-acetylmorphine | 90\n",
      "Morphine | Buprenorphine | 79\n",
      "------------------------------------------------------------\n",
      "Opium | Zolpidem  | 62\n",
      "Opium | 2-amino-5-chloropyridine  | 54\n",
      "Opium | 6-acetylmorphine | 54\n",
      "------------------------------------------------------------\n",
      "Oxycodone (Oxycontin®, Roxicodone®, Oxaydo®) | Oxycodone | 90\n",
      "Oxycodone (Oxycontin®, Roxicodone®, Oxaydo®) | Noroxycodone | 71\n",
      "Oxycodone (Oxycontin®, Roxicodone®, Oxaydo®) | Hydrocodone | 66\n",
      "------------------------------------------------------------\n",
      "PCP (Phencyclidine) | Phencyclidine | 95\n",
      "PCP (Phencyclidine) | Codeine | 64\n",
      "PCP (Phencyclidine) | 2,6-Xylidine | 60\n",
      "------------------------------------------------------------\n",
      "Promethazine | Ketamine | 68\n",
      "Promethazine | Methadone | 67\n",
      "Promethazine | Amphetamine | 61\n",
      "------------------------------------------------------------\n",
      "Psilocybin Mushrooms | Psilocybin | 90\n",
      "Psilocybin Mushrooms | Psilocin  | 68\n",
      "Psilocybin Mushrooms | CBD | 60\n",
      "------------------------------------------------------------\n",
      "------------------------------------------------------------\n",
      "Synthetic Cathinones | Speciociliatine  | 51\n",
      "------------------------------------------------------------\n",
      "------------------------------------------------------------\n"
     ]
    }
   ],
   "source": [
    "for index, row in DEA_drug_slang.iterrows():\n",
    "    index_term = row[\"index_term\"]  \n",
    "    # Find the top three closest matches \n",
    "    top_matches = process.extract(index_term, substances_of_interest[\"drug\"].tolist(), limit=3)\n",
    "    print(\"------------------------------------------------------------\")\n",
    "    for match, score in top_matches:\n",
    "        if score > 50:  ################################## \n",
    "            print(f\"{index_term} | {match} | {score}\")\n",
    "\n",
    "#I skimmed through these 2 find a threshold make sure the matches are good."
   ]
  },
  {
   "cell_type": "code",
   "execution_count": null,
   "metadata": {
    "vscode": {
     "languageId": "ruby"
    }
   },
   "outputs": [
    {
     "name": "stdout",
     "output_type": "stream",
     "text": [
      "Alprazolam (Xanax®)\n",
      "Clonazepam (Klonopin®)\n",
      "Cocaine\n",
      "Crack Cocaine\n",
      "Flunitrazepam (Rohypnol®)\n",
      "GHB (Gamma-Hydroxybutyric Acid)\n",
      "Heroin\n",
      "Khat\n",
      "LSD (Lysergic Acid Diethylamide)\n",
      "Marijuana\n",
      "Marijuana Concentrates/Hash Oil\n",
      "Mescaline/Peyote\n",
      "Methylphenidate (Ritalin®, Concerta®, Daytrana®)\n",
      "Opium\n",
      "Promethazine\n",
      "Synthetic Cannabinoids\n",
      "Synthetic Cathinones\n",
      "Steroids\n",
      "U-47700\n"
     ]
    }
   ],
   "source": [
    "\n",
    "substances_of_interest[\"DEA_name\"] = None\n",
    "substances_of_interest[\"DEA_synonyms\"] = None\n",
    "for index, row in DEA_drug_slang.iterrows():\n",
    "    index_term = row[\"index_term\"]  \n",
    "    alt_term = row[\"alt_term\"]\n",
    "    \n",
    "    # Find the closest match in the substances_of_interest DataFrame\n",
    "    match, score = process.extractOne(index_term, substances_of_interest[\"drug\"].tolist())\n",
    "    \n",
    "    if score > 88:  ############################### \n",
    "        matched_index = substances_of_interest[substances_of_interest[\"drug\"] == match].index[0]\n",
    "        substances_of_interest.at[matched_index, \"DEA_name\"] = index_term\n",
    "        substances_of_interest.at[matched_index, \"DEA_synonyms\"] = alt_term\n",
    "    else:\n",
    "        print(index_term)\n",
    "\n",
    "\n",
    "# DEA names without match to our data set"
   ]
  },
  {
   "cell_type": "code",
   "execution_count": 15,
   "metadata": {},
   "outputs": [
    {
     "name": "stdout",
     "output_type": "stream",
     "text": [
      "<class 'pandas.core.frame.DataFrame'>\n",
      "RangeIndex: 77 entries, 0 to 76\n",
      "Data columns (total 11 columns):\n",
      " #   Column                       Non-Null Count  Dtype \n",
      "---  ------                       --------------  ----- \n",
      " 0   drug                         77 non-null     object\n",
      " 1   CID                          72 non-null     object\n",
      " 2   pubchem_synonyms             72 non-null     object\n",
      " 3   psychonautwiki_Name          38 non-null     object\n",
      " 4   psychonautwiki_Synonyms      38 non-null     object\n",
      " 5   Pharmacology                 38 non-null     object\n",
      " 6   Effects                      38 non-null     object\n",
      " 7   Toxicity and Harm Potential  38 non-null     object\n",
      " 8   Legal Status                 38 non-null     object\n",
      " 9   DEA_name                     11 non-null     object\n",
      " 10  DEA_synonyms                 11 non-null     object\n",
      "dtypes: object(11)\n",
      "memory usage: 6.7+ KB\n"
     ]
    }
   ],
   "source": [
    "# fix 3\n",
    "\n",
    "# Amphetamine and Dextroamphetamine Combination (Adderall®) | Amphetamine | 90\n",
    "substances_of_interest.loc[substances_of_interest['drug']=='Amphetamine', \"DEA_name\"] = None\n",
    "substances_of_interest.loc[substances_of_interest['drug']=='Amphetamine', \"DEA_synonyms\"] = None\n",
    "\n",
    "# Buprenorphine and Naloxone Combination (Suboxone®) | Buprenorphine | 90\n",
    "substances_of_interest.loc[substances_of_interest['drug']=='Buprenorphine', \"DEA_name\"] = None\n",
    "substances_of_interest.loc[substances_of_interest['drug']=='Buprenorphine', \"DEA_synonyms\"] = None\n",
    "\n",
    "# LSD (Lysergic Acid Diethylamide) | LSD | 60\n",
    "substances_of_interest.loc[substances_of_interest['drug']=='LSD', \"DEA_name\"] = \"LSD (Lysergic Acid Diethylamide)\"\n",
    "substances_of_interest.loc[substances_of_interest['drug']=='LSD', \"DEA_synonyms\"] = DEA_drug_slang.loc[DEA_drug_slang['index_term'] == 'LSD (Lysergic Acid Diethylamide)', 'alt_term'].iloc[0]\n",
    "\n",
    "substances_of_interest.info(verbose=True)"
   ]
  },
  {
   "cell_type": "code",
   "execution_count": 16,
   "metadata": {},
   "outputs": [
    {
     "data": {
      "text/plain": [
       "17    Aceite; Acelide; Acid; Acido; Alice; Angels in...\n",
       "Name: alt_term, dtype: object"
      ]
     },
     "execution_count": 16,
     "metadata": {},
     "output_type": "execute_result"
    }
   ],
   "source": [
    "DEA_drug_slang[DEA_drug_slang['index_term'] == 'LSD (Lysergic Acid Diethylamide)']['alt_term']"
   ]
  },
  {
   "cell_type": "code",
   "execution_count": 17,
   "metadata": {},
   "outputs": [
    {
     "data": {
      "text/plain": [
       "36    Aceite; Acelide; Acid; Acido; Alice; Angels in...\n",
       "Name: DEA_synonyms, dtype: object"
      ]
     },
     "execution_count": 17,
     "metadata": {},
     "output_type": "execute_result"
    }
   ],
   "source": [
    "substances_of_interest[substances_of_interest['drug']=='LSD'][\"DEA_synonyms\"]"
   ]
  },
  {
   "cell_type": "code",
   "execution_count": 18,
   "metadata": {},
   "outputs": [
    {
     "data": {
      "text/html": [
       "<div>\n",
       "<style scoped>\n",
       "    .dataframe tbody tr th:only-of-type {\n",
       "        vertical-align: middle;\n",
       "    }\n",
       "\n",
       "    .dataframe tbody tr th {\n",
       "        vertical-align: top;\n",
       "    }\n",
       "\n",
       "    .dataframe thead th {\n",
       "        text-align: right;\n",
       "    }\n",
       "</style>\n",
       "<table border=\"1\" class=\"dataframe\">\n",
       "  <thead>\n",
       "    <tr style=\"text-align: right;\">\n",
       "      <th></th>\n",
       "      <th>index term</th>\n",
       "      <th>DrugBank ID</th>\n",
       "      <th>widely discussed</th>\n",
       "      <th>GPT-3 synonyms</th>\n",
       "    </tr>\n",
       "  </thead>\n",
       "  <tbody>\n",
       "    <tr>\n",
       "      <th>0</th>\n",
       "      <td>bromazepam</td>\n",
       "      <td>DB01558</td>\n",
       "      <td>True</td>\n",
       "      <td>'bromaze','lexotan','bromazolam','bromaz','zep...</td>\n",
       "    </tr>\n",
       "    <tr>\n",
       "      <th>1</th>\n",
       "      <td>dexfenfluramine</td>\n",
       "      <td>DB01191</td>\n",
       "      <td>False</td>\n",
       "      <td>'appetite-decreasing_medication','fenfen','fen...</td>\n",
       "    </tr>\n",
       "    <tr>\n",
       "      <th>2</th>\n",
       "      <td>oxymorphone</td>\n",
       "      <td>DB01192</td>\n",
       "      <td>True</td>\n",
       "      <td>'endocet','oxymorphone_hydrochloride','numorph...</td>\n",
       "    </tr>\n",
       "    <tr>\n",
       "      <th>3</th>\n",
       "      <td>methylphenidate</td>\n",
       "      <td>DB00422</td>\n",
       "      <td>True</td>\n",
       "      <td>'ritalin','concerta','metadate','attention_def...</td>\n",
       "    </tr>\n",
       "    <tr>\n",
       "      <th>4</th>\n",
       "      <td>methamphetamine</td>\n",
       "      <td>DB01577</td>\n",
       "      <td>True</td>\n",
       "      <td>'methamphet','methamphetamine_hydrochloride','...</td>\n",
       "    </tr>\n",
       "    <tr>\n",
       "      <th>...</th>\n",
       "      <td>...</td>\n",
       "      <td>...</td>\n",
       "      <td>...</td>\n",
       "      <td>...</td>\n",
       "    </tr>\n",
       "    <tr>\n",
       "      <th>93</th>\n",
       "      <td>alprazolam</td>\n",
       "      <td>DB00404</td>\n",
       "      <td>True</td>\n",
       "      <td>'xanax','a-prazolam','a-pra-zolam','alprazoram...</td>\n",
       "    </tr>\n",
       "    <tr>\n",
       "      <th>94</th>\n",
       "      <td>fenfluramine</td>\n",
       "      <td>DB00574</td>\n",
       "      <td>False</td>\n",
       "      <td>'plegine','levofenfluramine','ionamin','fen-ph...</td>\n",
       "    </tr>\n",
       "    <tr>\n",
       "      <th>95</th>\n",
       "      <td>zolpidem</td>\n",
       "      <td>DB00425</td>\n",
       "      <td>False</td>\n",
       "      <td>'zolpidem_tartrate','zolpidem_10_mg','zolpidem...</td>\n",
       "    </tr>\n",
       "    <tr>\n",
       "      <th>96</th>\n",
       "      <td>modafinil</td>\n",
       "      <td>DB00745</td>\n",
       "      <td>True</td>\n",
       "      <td>'moadfinil','modifanil','moddafinil','modafini...</td>\n",
       "    </tr>\n",
       "    <tr>\n",
       "      <th>97</th>\n",
       "      <td>hydromorphone</td>\n",
       "      <td>DB00327</td>\n",
       "      <td>False</td>\n",
       "      <td>'hydromorfan','hydro_morphone','hydrophone','m...</td>\n",
       "    </tr>\n",
       "  </tbody>\n",
       "</table>\n",
       "<p>98 rows × 4 columns</p>\n",
       "</div>"
      ],
      "text/plain": [
       "         index term DrugBank ID  widely discussed  \\\n",
       "0        bromazepam     DB01558              True   \n",
       "1   dexfenfluramine     DB01191             False   \n",
       "2       oxymorphone     DB01192              True   \n",
       "3   methylphenidate     DB00422              True   \n",
       "4   methamphetamine     DB01577              True   \n",
       "..              ...         ...               ...   \n",
       "93       alprazolam     DB00404              True   \n",
       "94     fenfluramine     DB00574             False   \n",
       "95         zolpidem     DB00425             False   \n",
       "96        modafinil     DB00745              True   \n",
       "97    hydromorphone     DB00327             False   \n",
       "\n",
       "                                       GPT-3 synonyms  \n",
       "0   'bromaze','lexotan','bromazolam','bromaz','zep...  \n",
       "1   'appetite-decreasing_medication','fenfen','fen...  \n",
       "2   'endocet','oxymorphone_hydrochloride','numorph...  \n",
       "3   'ritalin','concerta','metadate','attention_def...  \n",
       "4   'methamphet','methamphetamine_hydrochloride','...  \n",
       "..                                                ...  \n",
       "93  'xanax','a-prazolam','a-pra-zolam','alprazoram...  \n",
       "94  'plegine','levofenfluramine','ionamin','fen-ph...  \n",
       "95  'zolpidem_tartrate','zolpidem_10_mg','zolpidem...  \n",
       "96  'moadfinil','modifanil','moddafinil','modafini...  \n",
       "97  'hydromorfan','hydro_morphone','hydrophone','m...  \n",
       "\n",
       "[98 rows x 4 columns]"
      ]
     },
     "execution_count": 18,
     "metadata": {},
     "output_type": "execute_result"
    }
   ],
   "source": [
    "lexicon_csv = r\"C:\\Users\\James\\OneDrive\\Kansas State University\\CIS 830\\Project_SparKG\\code\\data_processing\\drugs_of_abuse_lexicon.csv\"\n",
    "lexicon = pd.read_csv(lexicon_csv, encoding=\"utf-8-sig\")\n",
    "lexicon "
   ]
  },
  {
   "cell_type": "code",
   "execution_count": 19,
   "metadata": {},
   "outputs": [
    {
     "name": "stdout",
     "output_type": "stream",
     "text": [
      "------------------------------------------------------------\n",
      "bromazepam | 3-hydroxy flubromazepam | 90\n",
      "bromazepam | 3-hydroxy flubromazepam glucuronide | 90\n",
      "------------------------------------------------------------\n",
      "------------------------------------------------------------\n",
      "oxymorphone | Oxymorphone | 100\n",
      "------------------------------------------------------------\n",
      "------------------------------------------------------------\n",
      "methamphetamine | Methamphetamine | 100\n",
      "------------------------------------------------------------\n",
      "------------------------------------------------------------\n",
      "morphine | Morphine | 100\n",
      "morphine | 6-acetylmorphine | 90\n",
      "------------------------------------------------------------\n",
      "phencyclidine | Phencyclidine | 100\n",
      "------------------------------------------------------------\n",
      "dihydrocodeine | Codeine | 90\n",
      "------------------------------------------------------------\n",
      "------------------------------------------------------------\n",
      "------------------------------------------------------------\n",
      "fentanyl | Fentanyl | 100\n",
      "fentanyl | ortho-methylfentanyl | 90\n",
      "fentanyl | para-Fluorofentanyl | 90\n",
      "------------------------------------------------------------\n",
      "------------------------------------------------------------\n",
      "------------------------------------------------------------\n",
      "oxycodone | Oxycodone | 100\n",
      "------------------------------------------------------------\n",
      "------------------------------------------------------------\n",
      "pregabalin | Pregabalin | 100\n",
      "------------------------------------------------------------\n",
      "amphetamine | Amphetamine | 100\n",
      "------------------------------------------------------------\n",
      "------------------------------------------------------------\n",
      "------------------------------------------------------------\n",
      "------------------------------------------------------------\n",
      "------------------------------------------------------------\n",
      "carfentanil | Carfentanil | 100\n",
      "------------------------------------------------------------\n",
      "------------------------------------------------------------\n",
      "------------------------------------------------------------\n",
      "------------------------------------------------------------\n",
      "------------------------------------------------------------\n",
      "------------------------------------------------------------\n",
      "------------------------------------------------------------\n",
      "------------------------------------------------------------\n",
      "buprenorphine | Buprenorphine | 100\n",
      "buprenorphine | Norbuprenorphine | 90\n",
      "------------------------------------------------------------\n",
      "------------------------------------------------------------\n",
      "------------------------------------------------------------\n",
      "------------------------------------------------------------\n",
      "------------------------------------------------------------\n",
      "------------------------------------------------------------\n",
      "------------------------------------------------------------\n",
      "------------------------------------------------------------\n",
      "------------------------------------------------------------\n",
      "nordazepam | Nordiazepam | 95\n",
      "------------------------------------------------------------\n",
      "------------------------------------------------------------\n",
      "------------------------------------------------------------\n",
      "------------------------------------------------------------\n",
      "------------------------------------------------------------\n",
      "------------------------------------------------------------\n",
      "hydrocodone | Hydrocodone | 100\n",
      "------------------------------------------------------------\n",
      "------------------------------------------------------------\n",
      "------------------------------------------------------------\n",
      "desomorphine | Morphine | 90\n",
      "------------------------------------------------------------\n",
      "------------------------------------------------------------\n",
      "codeine | Codeine | 100\n",
      "------------------------------------------------------------\n",
      "------------------------------------------------------------\n",
      "------------------------------------------------------------\n",
      "ecgonine | Benzoylecgonine | 90\n",
      "------------------------------------------------------------\n",
      "zopiclone | Zopiclone | 100\n",
      "------------------------------------------------------------\n",
      "temazepam | Temazepam | 100\n",
      "------------------------------------------------------------\n",
      "lorazepam | Lorazepam | 100\n",
      "------------------------------------------------------------\n",
      "------------------------------------------------------------\n",
      "------------------------------------------------------------\n",
      "------------------------------------------------------------\n",
      "------------------------------------------------------------\n",
      "ketamine | Ketamine | 100\n",
      "------------------------------------------------------------\n",
      "------------------------------------------------------------\n",
      "meprobamate | Meprobamate | 100\n",
      "------------------------------------------------------------\n",
      "------------------------------------------------------------\n",
      "------------------------------------------------------------\n",
      "------------------------------------------------------------\n",
      "------------------------------------------------------------\n",
      "------------------------------------------------------------\n",
      "------------------------------------------------------------\n",
      "------------------------------------------------------------\n",
      "------------------------------------------------------------\n",
      "------------------------------------------------------------\n",
      "------------------------------------------------------------\n",
      "methadone | Methadone | 100\n",
      "------------------------------------------------------------\n",
      "clonazepam | 7-aminoclonazepam | 90\n",
      "------------------------------------------------------------\n",
      "------------------------------------------------------------\n",
      "4-methoxyamphetamine | Amphetamine | 90\n",
      "------------------------------------------------------------\n",
      "------------------------------------------------------------\n",
      "------------------------------------------------------------\n",
      "------------------------------------------------------------\n",
      "------------------------------------------------------------\n",
      "oxazepam | Oxazepam  | 100\n",
      "------------------------------------------------------------\n",
      "------------------------------------------------------------\n",
      "------------------------------------------------------------\n",
      "------------------------------------------------------------\n",
      "------------------------------------------------------------\n",
      "tramadol | O-desmethyltramadol | 90\n",
      "------------------------------------------------------------\n",
      "------------------------------------------------------------\n",
      "------------------------------------------------------------\n",
      "------------------------------------------------------------\n",
      "------------------------------------------------------------\n",
      "------------------------------------------------------------\n",
      "alprazolam | alpha-hydroxyalprazolam | 90\n",
      "------------------------------------------------------------\n",
      "------------------------------------------------------------\n",
      "zolpidem | Zolpidem  | 100\n",
      "------------------------------------------------------------\n",
      "------------------------------------------------------------\n",
      "hydromorphone | Hydromorphone | 100\n"
     ]
    }
   ],
   "source": [
    "for index, row in lexicon.iterrows():\n",
    "    index_term = row[\"index term\"]  \n",
    "    DrugBank_ID = row[\"DrugBank ID\"]\n",
    "    widely_discussed = row[\"widely discussed\"]\n",
    "    GPT_synonyms = row[\"GPT-3 synonyms\"]\n",
    "    # Find the top three closest matches \n",
    "    top_matches = process.extract(index_term, substances_of_interest[\"drug\"].tolist(), limit=3)\n",
    "    print(\"------------------------------------------------------------\")\n",
    "    for match, score in top_matches:\n",
    "        if score > 88:  ################################## \n",
    "            print(f\"{index_term} | {match} | {score}\")"
   ]
  },
  {
   "cell_type": "code",
   "execution_count": 20,
   "metadata": {},
   "outputs": [
    {
     "name": "stdout",
     "output_type": "stream",
     "text": [
      "<class 'pandas.core.frame.DataFrame'>\n",
      "RangeIndex: 77 entries, 0 to 76\n",
      "Data columns (total 14 columns):\n",
      " #   Column                       Non-Null Count  Dtype \n",
      "---  ------                       --------------  ----- \n",
      " 0   drug                         77 non-null     object\n",
      " 1   CID                          72 non-null     object\n",
      " 2   pubchem_synonyms             72 non-null     object\n",
      " 3   psychonautwiki_Name          38 non-null     object\n",
      " 4   psychonautwiki_Synonyms      38 non-null     object\n",
      " 5   Pharmacology                 38 non-null     object\n",
      " 6   Effects                      38 non-null     object\n",
      " 7   Toxicity and Harm Potential  38 non-null     object\n",
      " 8   Legal Status                 38 non-null     object\n",
      " 9   DEA_name                     11 non-null     object\n",
      " 10  DEA_synonyms                 11 non-null     object\n",
      " 11  DrugBank_ID                  22 non-null     object\n",
      " 12  widely_discussed             22 non-null     object\n",
      " 13  GPT_synonyms                 22 non-null     object\n",
      "dtypes: object(14)\n",
      "memory usage: 8.6+ KB\n"
     ]
    }
   ],
   "source": [
    "substances_of_interest[\"DrugBank_ID\"] = None\n",
    "substances_of_interest[\"widely_discussed\"] = None\n",
    "substances_of_interest[\"GPT_synonyms\"] = None\n",
    "for index, row in lexicon.iterrows():\n",
    "    index_term = row[\"index term\"]  \n",
    "    DrugBank_ID = row[\"DrugBank ID\"]\n",
    "    widely_discussed = row[\"widely discussed\"]\n",
    "    GPT_synonyms = row[\"GPT-3 synonyms\"]\n",
    "    # Find the top \n",
    "    match, score = process.extractOne(index_term, substances_of_interest[\"drug\"].tolist())\n",
    "    \n",
    "    if score > 92:  ############################### \n",
    "        matched_index = substances_of_interest[substances_of_interest[\"drug\"] == match].index[0]\n",
    "        substances_of_interest.at[matched_index, \"DrugBank_ID\"] = DrugBank_ID\n",
    "        substances_of_interest.at[matched_index, \"widely_discussed\"] = widely_discussed\n",
    "        substances_of_interest.at[matched_index, \"GPT_synonyms\"] = GPT_synonyms\n",
    "\n",
    "substances_of_interest.info(verbose=True)"
   ]
  },
  {
   "cell_type": "code",
   "execution_count": 21,
   "metadata": {},
   "outputs": [
    {
     "name": "stdout",
     "output_type": "stream",
     "text": [
      "<class 'pandas.core.frame.DataFrame'>\n",
      "RangeIndex: 2997 entries, 0 to 2996\n",
      "Data columns (total 12 columns):\n",
      " #   Column           Non-Null Count  Dtype \n",
      "---  ------           --------------  ----- \n",
      " 0   dbid             2997 non-null   object\n",
      " 1   drug             2997 non-null   object\n",
      " 2   known            2975 non-null   object\n",
      " 3   misspellingPhon  484 non-null    object\n",
      " 4   edOne            1317 non-null   object\n",
      " 5   edTwo            1519 non-null   object\n",
      " 6   pillMark         19 non-null     object\n",
      " 7   google_ms        28 non-null     object\n",
      " 8   google_title     702 non-null    object\n",
      " 9   google_snippet   727 non-null    object\n",
      " 10  ud_slang         40 non-null     object\n",
      " 11  missed           2856 non-null   object\n",
      "dtypes: object(12)\n",
      "memory usage: 281.1+ KB\n"
     ]
    }
   ],
   "source": [
    "redmed_lexicon_csv = r\"C:\\Users\\James\\OneDrive\\Kansas State University\\CIS 830\\Project_SparKG\\data\\redmed_lexicon.csv\"\n",
    "redmed_lexicon = pd.read_csv(redmed_lexicon_csv, encoding=\"utf-8-sig\")\n",
    "redmed_lexicon.info(verbose=True)\n"
   ]
  },
  {
   "cell_type": "code",
   "execution_count": 22,
   "metadata": {},
   "outputs": [
    {
     "name": "stdout",
     "output_type": "stream",
     "text": [
      "------------------------------------------------------------\n",
      "Psilocybin\n",
      "psilocybine\n",
      "95\n",
      "------------------------------------------------------------\n",
      "Nordiazepam\n",
      "nordazepam\n",
      "95\n",
      "<class 'pandas.core.frame.DataFrame'>\n",
      "RangeIndex: 77 entries, 0 to 76\n",
      "Data columns (total 25 columns):\n",
      " #   Column                       Non-Null Count  Dtype \n",
      "---  ------                       --------------  ----- \n",
      " 0   drug                         77 non-null     object\n",
      " 1   CID                          72 non-null     object\n",
      " 2   pubchem_synonyms             72 non-null     object\n",
      " 3   psychonautwiki_Name          38 non-null     object\n",
      " 4   psychonautwiki_Synonyms      38 non-null     object\n",
      " 5   Pharmacology                 38 non-null     object\n",
      " 6   Effects                      38 non-null     object\n",
      " 7   Toxicity and Harm Potential  38 non-null     object\n",
      " 8   Legal Status                 38 non-null     object\n",
      " 9   DEA_name                     11 non-null     object\n",
      " 10  DEA_synonyms                 11 non-null     object\n",
      " 11  DrugBank_ID                  22 non-null     object\n",
      " 12  widely_discussed             22 non-null     object\n",
      " 13  GPT_synonyms                 22 non-null     object\n",
      " 14  dbid                         29 non-null     object\n",
      " 15  known                        29 non-null     object\n",
      " 16  misspellingPhon              11 non-null     object\n",
      " 17  edOne                        25 non-null     object\n",
      " 18  edTwo                        28 non-null     object\n",
      " 19  pillMark                     4 non-null      object\n",
      " 20  google_ms                    3 non-null      object\n",
      " 21  google_title                 18 non-null     object\n",
      " 22  google_snippet               18 non-null     object\n",
      " 23  ud_slang                     5 non-null      object\n",
      " 24  missed                       29 non-null     object\n",
      "dtypes: object(25)\n",
      "memory usage: 15.2+ KB\n"
     ]
    }
   ],
   "source": [
    "\n",
    "substances_of_interest[\"dbid\"] = None\n",
    "substances_of_interest[\"known\"] = None\n",
    "substances_of_interest[\"misspellingPhon\"] = None\n",
    "substances_of_interest[\"edOne\"] = None\n",
    "substances_of_interest[\"edTwo\"] = None\n",
    "substances_of_interest[\"pillMark\"] = None\n",
    "substances_of_interest[\"google_ms\"] = None\n",
    "substances_of_interest[\"google_title\"] = None\n",
    "substances_of_interest[\"google_snippet\"] = None\n",
    "substances_of_interest[\"ud_slang\"] = None\n",
    "substances_of_interest[\"missed\"] = None\n",
    "for index, row in redmed_lexicon.iterrows():\n",
    "    drug_redmed_lexicon = row[\"drug\"]  \n",
    "    if drug_redmed_lexicon == \"etonitazene\":\n",
    "        continue\n",
    "    \n",
    "    dbid = row[\"dbid\"]\n",
    "    known = row[\"known\"]\n",
    "    misspellingPhon = row[\"misspellingPhon\"]\n",
    "    edOne = row[\"edOne\"]\n",
    "    edTwo = row[\"edTwo\"]\n",
    "    pillMark = row[\"pillMark\"]\n",
    "    google_ms = row[\"google_ms\"]\n",
    "    google_title = row[\"google_title\"]\n",
    "    google_snippet = row[\"google_snippet\"]\n",
    "    ud_slang = row[\"ud_slang\"]\n",
    "    missed = row[\"missed\"]\n",
    "    \n",
    "    # Find the top \n",
    "    match, score = process.extractOne(drug_redmed_lexicon, substances_of_interest[\"drug\"].tolist())\n",
    "    \n",
    "    if score > 92:  ############################### \n",
    "        matched_index = substances_of_interest[substances_of_interest[\"drug\"] == match].index[0]\n",
    "        substances_of_interest.at[matched_index, \"dbid\"] = dbid\n",
    "        substances_of_interest.at[matched_index, \"known\"] = known\n",
    "        substances_of_interest.at[matched_index, \"misspellingPhon\"] = misspellingPhon\n",
    "        substances_of_interest.at[matched_index, \"edOne\"] = edOne\n",
    "        substances_of_interest.at[matched_index, \"edTwo\"] = edTwo\n",
    "        substances_of_interest.at[matched_index, \"pillMark\"] = pillMark\n",
    "        substances_of_interest.at[matched_index, \"google_ms\"] = google_ms\n",
    "        substances_of_interest.at[matched_index, \"google_title\"] = google_title\n",
    "        substances_of_interest.at[matched_index, \"google_snippet\"] = google_snippet\n",
    "        substances_of_interest.at[matched_index, \"ud_slang\"] = ud_slang\n",
    "        substances_of_interest.at[matched_index, \"missed\"] = missed\n",
    "        if score < 100:\n",
    "            print(\"------------------------------------------------------------\")\n",
    "            print(match)\n",
    "            print(drug_redmed_lexicon)\n",
    "            print(score)\n",
    "    \n",
    "substances_of_interest.info(verbose=True)"
   ]
  },
  {
   "cell_type": "code",
   "execution_count": 23,
   "metadata": {},
   "outputs": [],
   "source": [
    "substances_of_interest.to_csv(r\"C:\\Users\\James\\OneDrive\\Kansas State University\\CIS 830\\Project_SparKG\\data\\drugs_with_data2.csv\", index=False, encoding=\"utf-8-sig\")"
   ]
  },
  {
   "cell_type": "code",
   "execution_count": 29,
   "metadata": {},
   "outputs": [
    {
     "name": "stdout",
     "output_type": "stream",
     "text": [
      "No info for '8S-OH-R-HHC'\n",
      "No info for 'alpha-hydroxybromazolam'\n",
      "No info for 'N-desethylmetonitazene'\n",
      "No info for 'R-HHC-COOH'\n",
      "No info for 'S-HHC-COOH'\n"
     ]
    }
   ],
   "source": [
    "# Initialize the column to store the synonyms\n",
    "substances_of_interest[\"most_likely_synonyms\"] = None\n",
    "\n",
    "# Instantiate the client (ensure your API key is correctly loaded)\n",
    "client = OpenAI(api_key=os.getenv('First_Key'))\n",
    "\n",
    "# Iterate over each row in the DataFrame\n",
    "for index, row in substances_of_interest.iterrows():\n",
    "    # Extract the drug value explicitly\n",
    "    drug = row[\"drug\"]\n",
    "    \n",
    "    prompt = f\"\"\"Based on the following information, provide up to 20 most probable synonyms for the drug {drug}:\n",
    "    pubchem_synonyms: {row[\"pubchem_synonyms\"]}\n",
    "    psychonautwiki_Name: {row[\"psychonautwiki_Name\"]}\n",
    "    psychonautwiki_Synonyms: {row[\"psychonautwiki_Synonyms\"]}\n",
    "    Pharmacology: {row[\"Pharmacology\"]}\n",
    "    Effects: {row[\"Effects\"]}\n",
    "    Toxicity and Harm Potential: {row[\"Toxicity and Harm Potential\"]}\n",
    "    Legal Status: {row[\"Legal Status\"]}\n",
    "    DAE_name: {row[\"DEA_name\"]}\n",
    "    DEA_synonyms: {row[\"DEA_synonyms\"]}\n",
    "    widely_discussed: {row[\"widely_discussed\"]}\n",
    "    GPT_synonyms: {row[\"GPT_synonyms\"]}\n",
    "    known: {row[\"known\"]}\n",
    "    misspellingPhon: {row[\"misspellingPhon\"]}\n",
    "    edOne: {row[\"edOne\"]}\n",
    "    edTwo: {row[\"edTwo\"]}\n",
    "    pillMark: {row[\"pillMark\"]}\n",
    "    google_ms: {row[\"google_ms\"]}\n",
    "    google_title: {row[\"google_title\"]}\n",
    "    google_snippet: {row[\"google_snippet\"]}\n",
    "    ud_slang: {row[\"ud_slang\"]}\n",
    "    missed: {row[\"missed\"]}\n",
    "\n",
    "    Do not provide duplicates or any other text. Just return the synonyms in a list format, separated by commas.\n",
    "    If you cannot find any synonyms, return \"None\" with no other text.\n",
    "    \"\"\"\n",
    "    \n",
    "    # Get response from the language model\n",
    "    response = client.responses.create(\n",
    "        model=\"o3-mini-2025-01-31\",  # Make sure this model name is valid for your setup\n",
    "        input=prompt\n",
    "    )\n",
    "\n",
    "    output_text = response.output_text.strip()\n",
    "    \n",
    "    if output_text.lower() == \"none\":\n",
    "        output_text = None\n",
    "        print(f\"No info for '{drug}'\")\n",
    "    else:\n",
    "        output_text = ftfy.fix_text(output_text)\n",
    "    \n",
    "    # Update the DataFrame entry; using index here (or 'drug' if the DataFrame is indexed by drug)\n",
    "    substances_of_interest.at[index, \"most_likely_synonyms\"] = output_text\n"
   ]
  },
  {
   "cell_type": "code",
   "execution_count": 30,
   "metadata": {},
   "outputs": [],
   "source": [
    "substances_of_interest.to_csv(r\"C:\\Users\\James\\OneDrive\\Kansas State University\\CIS 830\\Project_SparKG\\data\\drugs_with_data3.csv\", index=False, encoding=\"utf-8-sig\")"
   ]
  },
  {
   "cell_type": "code",
   "execution_count": 7,
   "metadata": {},
   "outputs": [],
   "source": [
    "import os\n",
    "import json\n",
    "import csv\n",
    "import re\n",
    "import ftfy\n",
    "import time\n",
    "import pandas as pd\n",
    "import pubchempy as pcp\n",
    "\n",
    "from openai import OpenAI\n",
    "from anthropic import Anthropic\n",
    "\n",
    "from fuzzywuzzy import process\n",
    "from tqdm import tqdm\n",
    "from dotenv import load_dotenv\n",
    "tqdm.pandas()\n",
    "load_dotenv() \n",
    "\n",
    "websites = [\n",
    "    \"https://www.drugbank.ca/drugs/\",\n",
    "    \"https://pubchem.ncbi.nlm.nih.gov/\",\n",
    "    \"https://www.bluelight.org\",\n",
    "    \"https://psychonautwiki.org/wiki/List/substances-new\",\n",
    "    \"https://psychonautwiki.org/wiki/List_of_pharmaceuticals\",\n",
    "    \"https://psychonautwiki.org/wiki/Psychoactive_substance_index\",\n",
    "    \"https://erowid.org/experiences/exp_front.php\",\n",
    "    \"https://www.drugabuse.gov/publications/drugfacts\",\n",
    "    \"https://www.erowid.org/psychoactives/\",\n",
    "    \"https://www.Wikipedia.org\",\n",
    "]\n",
    "\n",
    "substances_of_interest  = pd.read_csv(r\"C:\\Users\\James\\OneDrive\\Kansas State University\\CIS 830\\Project_SparKG\\data\\drugs_with_data3.csv\", encoding=\"utf-8-sig\")"
   ]
  },
  {
   "cell_type": "code",
   "execution_count": 8,
   "metadata": {},
   "outputs": [
    {
     "name": "stderr",
     "output_type": "stream",
     "text": [
      "  0%|          | 0/77 [00:00<?, ?it/s]"
     ]
    },
    {
     "name": "stdout",
     "output_type": "stream",
     "text": [
      "No info for '2,6-Xylidine' on 'https://www.bluelight.org'\n",
      "No info for '2,6-Xylidine' on 'https://psychonautwiki.org/wiki/List/substances-new'\n",
      "No info for '2,6-Xylidine' on 'https://psychonautwiki.org/wiki/List_of_pharmaceuticals'\n",
      "No info for '2,6-Xylidine' on 'https://psychonautwiki.org/wiki/Psychoactive_substance_index'\n",
      "No info for '2,6-Xylidine' on 'https://erowid.org/experiences/exp_front.php'\n",
      "No info for '2,6-Xylidine' on 'https://www.drugabuse.gov/publications/drugfacts'\n",
      "No info for '2,6-Xylidine' on 'https://www.erowid.org/psychoactives/'\n"
     ]
    },
    {
     "name": "stderr",
     "output_type": "stream",
     "text": [
      "  1%|▏         | 1/77 [00:18<23:47, 18.79s/it]"
     ]
    },
    {
     "name": "stdout",
     "output_type": "stream",
     "text": [
      "No info for '2,6-Xylidine' on 'https://www.Wikipedia.org'\n",
      "No info for '2-amino-5-chloropyridine ' on 'https://www.drugbank.ca/drugs/'\n",
      "No info for '2-amino-5-chloropyridine ' on 'https://www.bluelight.org'\n",
      "No info for '2-amino-5-chloropyridine ' on 'https://psychonautwiki.org/wiki/List/substances-new'\n",
      "No info for '2-amino-5-chloropyridine ' on 'https://psychonautwiki.org/wiki/List_of_pharmaceuticals'\n",
      "No info for '2-amino-5-chloropyridine ' on 'https://psychonautwiki.org/wiki/Psychoactive_substance_index'\n",
      "No info for '2-amino-5-chloropyridine ' on 'https://erowid.org/experiences/exp_front.php'\n",
      "No info for '2-amino-5-chloropyridine ' on 'https://www.drugabuse.gov/publications/drugfacts'\n",
      "No info for '2-amino-5-chloropyridine ' on 'https://www.erowid.org/psychoactives/'\n"
     ]
    },
    {
     "name": "stderr",
     "output_type": "stream",
     "text": [
      "  3%|▎         | 2/77 [00:34<20:56, 16.76s/it]"
     ]
    },
    {
     "name": "stdout",
     "output_type": "stream",
     "text": [
      "No info for '2-amino-5-chloropyridine ' on 'https://www.Wikipedia.org'\n",
      "No info for '2-fluoro-2-oxo PCE' on 'https://www.drugbank.ca/drugs/'\n",
      "No info for '2-fluoro-2-oxo PCE' on 'https://pubchem.ncbi.nlm.nih.gov/'\n",
      "No info for '2-fluoro-2-oxo PCE' on 'https://psychonautwiki.org/wiki/List/substances-new'\n",
      "No info for '2-fluoro-2-oxo PCE' on 'https://psychonautwiki.org/wiki/List_of_pharmaceuticals'\n",
      "No info for '2-fluoro-2-oxo PCE' on 'https://psychonautwiki.org/wiki/Psychoactive_substance_index'\n",
      "No info for '2-fluoro-2-oxo PCE' on 'https://erowid.org/experiences/exp_front.php'\n",
      "No info for '2-fluoro-2-oxo PCE' on 'https://www.drugabuse.gov/publications/drugfacts'\n",
      "No info for '2-fluoro-2-oxo PCE' on 'https://www.erowid.org/psychoactives/'\n"
     ]
    },
    {
     "name": "stderr",
     "output_type": "stream",
     "text": [
      "  4%|▍         | 3/77 [00:49<19:57, 16.18s/it]"
     ]
    },
    {
     "name": "stdout",
     "output_type": "stream",
     "text": [
      "No info for '2-fluoro-2-oxo PCE' on 'https://www.Wikipedia.org'\n",
      "No info for '2-Oxo-3-hydroxy-LSD' on 'https://www.drugbank.ca/drugs/'\n",
      "No info for '2-Oxo-3-hydroxy-LSD' on 'https://erowid.org/experiences/exp_front.php'\n",
      "No info for '2-Oxo-3-hydroxy-LSD' on 'https://www.drugabuse.gov/publications/drugfacts'\n"
     ]
    },
    {
     "name": "stderr",
     "output_type": "stream",
     "text": [
      "  5%|▌         | 4/77 [01:23<28:08, 23.13s/it]"
     ]
    },
    {
     "name": "stdout",
     "output_type": "stream",
     "text": [
      "No info for '2-Oxo-3-hydroxy-LSD' on 'https://www.Wikipedia.org'\n",
      "No info for '3-hydroxy flubromazepam' on 'https://www.drugbank.ca/drugs/'\n",
      "No info for '3-hydroxy flubromazepam' on 'https://psychonautwiki.org/wiki/List/substances-new'\n",
      "No info for '3-hydroxy flubromazepam' on 'https://psychonautwiki.org/wiki/List_of_pharmaceuticals'\n",
      "No info for '3-hydroxy flubromazepam' on 'https://psychonautwiki.org/wiki/Psychoactive_substance_index'\n",
      "No info for '3-hydroxy flubromazepam' on 'https://erowid.org/experiences/exp_front.php'\n",
      "No info for '3-hydroxy flubromazepam' on 'https://www.drugabuse.gov/publications/drugfacts'\n",
      "No info for '3-hydroxy flubromazepam' on 'https://www.erowid.org/psychoactives/'\n"
     ]
    },
    {
     "name": "stderr",
     "output_type": "stream",
     "text": [
      "  6%|▋         | 5/77 [01:41<25:34, 21.32s/it]"
     ]
    },
    {
     "name": "stdout",
     "output_type": "stream",
     "text": [
      "No info for '3-hydroxy flubromazepam glucuronide' on 'https://www.drugbank.ca/drugs/'\n",
      "No info for '3-hydroxy flubromazepam glucuronide' on 'https://psychonautwiki.org/wiki/List/substances-new'\n",
      "No info for '3-hydroxy flubromazepam glucuronide' on 'https://psychonautwiki.org/wiki/List_of_pharmaceuticals'\n",
      "No info for '3-hydroxy flubromazepam glucuronide' on 'https://psychonautwiki.org/wiki/Psychoactive_substance_index'\n",
      "No info for '3-hydroxy flubromazepam glucuronide' on 'https://erowid.org/experiences/exp_front.php'\n",
      "No info for '3-hydroxy flubromazepam glucuronide' on 'https://www.drugabuse.gov/publications/drugfacts'\n",
      "No info for '3-hydroxy flubromazepam glucuronide' on 'https://www.erowid.org/psychoactives/'\n"
     ]
    },
    {
     "name": "stderr",
     "output_type": "stream",
     "text": [
      "  8%|▊         | 6/77 [01:59<23:47, 20.11s/it]"
     ]
    },
    {
     "name": "stdout",
     "output_type": "stream",
     "text": [
      "No info for '3-hydroxy flubromazepam glucuronide' on 'https://www.Wikipedia.org'\n",
      "No info for '4-ANPP ' on 'https://psychonautwiki.org/wiki/List/substances-new'\n",
      "No info for '4-ANPP ' on 'https://psychonautwiki.org/wiki/List_of_pharmaceuticals'\n",
      "No info for '4-ANPP ' on 'https://psychonautwiki.org/wiki/Psychoactive_substance_index'\n",
      "No info for '4-ANPP ' on 'https://erowid.org/experiences/exp_front.php'\n"
     ]
    },
    {
     "name": "stderr",
     "output_type": "stream",
     "text": [
      "  9%|▉         | 7/77 [02:26<26:13, 22.47s/it]"
     ]
    },
    {
     "name": "stdout",
     "output_type": "stream",
     "text": [
      "No info for '4-ANPP ' on 'https://www.Wikipedia.org'\n",
      "No info for '4-HIAA ' on 'https://www.bluelight.org'\n",
      "No info for '4-HIAA ' on 'https://psychonautwiki.org/wiki/List/substances-new'\n",
      "No info for '4-HIAA ' on 'https://psychonautwiki.org/wiki/List_of_pharmaceuticals'\n",
      "No info for '4-HIAA ' on 'https://psychonautwiki.org/wiki/Psychoactive_substance_index'\n",
      "No info for '4-HIAA ' on 'https://erowid.org/experiences/exp_front.php'\n",
      "No info for '4-HIAA ' on 'https://www.drugabuse.gov/publications/drugfacts'\n",
      "No info for '4-HIAA ' on 'https://www.erowid.org/psychoactives/'\n"
     ]
    },
    {
     "name": "stderr",
     "output_type": "stream",
     "text": [
      " 10%|█         | 8/77 [02:47<25:19, 22.02s/it]"
     ]
    },
    {
     "name": "stdout",
     "output_type": "stream",
     "text": [
      "No info for '6-acetylmorphine' on 'https://psychonautwiki.org/wiki/List/substances-new'\n"
     ]
    },
    {
     "name": "stderr",
     "output_type": "stream",
     "text": [
      " 12%|█▏        | 9/77 [03:32<32:52, 29.00s/it]"
     ]
    },
    {
     "name": "stdout",
     "output_type": "stream",
     "text": [
      "No info for '7-aminoclonazepam' on 'https://www.drugbank.ca/drugs/'\n",
      "No info for '7-aminoclonazepam' on 'https://pubchem.ncbi.nlm.nih.gov/'\n",
      "No info for '7-aminoclonazepam' on 'https://psychonautwiki.org/wiki/List_of_pharmaceuticals'\n",
      "No info for '7-aminoclonazepam' on 'https://psychonautwiki.org/wiki/Psychoactive_substance_index'\n",
      "No info for '7-aminoclonazepam' on 'https://erowid.org/experiences/exp_front.php'\n",
      "No info for '7-aminoclonazepam' on 'https://www.drugabuse.gov/publications/drugfacts'\n",
      "No info for '7-aminoclonazepam' on 'https://www.erowid.org/psychoactives/'\n"
     ]
    },
    {
     "name": "stderr",
     "output_type": "stream",
     "text": [
      " 13%|█▎        | 10/77 [03:49<28:21, 25.40s/it]"
     ]
    },
    {
     "name": "stdout",
     "output_type": "stream",
     "text": [
      "No info for '7-aminoclonazepam' on 'https://www.Wikipedia.org'\n",
      "No info for '7-hydroxymitragynine' on 'https://www.bluelight.org'\n",
      "No info for '7-hydroxymitragynine' on 'https://erowid.org/experiences/exp_front.php'\n",
      "No info for '7-hydroxymitragynine' on 'https://www.drugabuse.gov/publications/drugfacts'\n"
     ]
    },
    {
     "name": "stderr",
     "output_type": "stream",
     "text": [
      " 14%|█▍        | 11/77 [04:27<32:09, 29.23s/it]"
     ]
    },
    {
     "name": "stdout",
     "output_type": "stream",
     "text": [
      "No info for '7-OH-CBD glucuronide' on 'https://psychonautwiki.org/wiki/List_of_pharmaceuticals'\n",
      "No info for '7-OH-CBD glucuronide' on 'https://erowid.org/experiences/exp_front.php'\n",
      "No info for '7-OH-CBD glucuronide' on 'https://www.drugabuse.gov/publications/drugfacts'\n"
     ]
    },
    {
     "name": "stderr",
     "output_type": "stream",
     "text": [
      " 16%|█▌        | 12/77 [04:56<31:40, 29.24s/it]"
     ]
    },
    {
     "name": "stdout",
     "output_type": "stream",
     "text": [
      "No info for '8-aminoclonazolam' on 'https://www.bluelight.org'\n",
      "No info for '8-aminoclonazolam' on 'https://psychonautwiki.org/wiki/List_of_pharmaceuticals'\n",
      "No info for '8-aminoclonazolam' on 'https://www.drugabuse.gov/publications/drugfacts'\n",
      "No info for '8-aminoclonazolam' on 'https://www.erowid.org/psychoactives/'\n"
     ]
    },
    {
     "name": "stderr",
     "output_type": "stream",
     "text": [
      " 17%|█▋        | 13/77 [05:24<30:50, 28.92s/it]"
     ]
    },
    {
     "name": "stdout",
     "output_type": "stream",
     "text": [
      "No info for '8-aminoclonazolam' on 'https://www.Wikipedia.org'\n",
      "No info for '8R-OH-R-HHC' on 'https://www.drugbank.ca/drugs/'\n",
      "No info for '8R-OH-R-HHC' on 'https://pubchem.ncbi.nlm.nih.gov/'\n",
      "No info for '8R-OH-R-HHC' on 'https://psychonautwiki.org/wiki/List/substances-new'\n",
      "No info for '8R-OH-R-HHC' on 'https://psychonautwiki.org/wiki/List_of_pharmaceuticals'\n",
      "No info for '8R-OH-R-HHC' on 'https://psychonautwiki.org/wiki/Psychoactive_substance_index'\n",
      "No info for '8R-OH-R-HHC' on 'https://erowid.org/experiences/exp_front.php'\n",
      "No info for '8R-OH-R-HHC' on 'https://www.drugabuse.gov/publications/drugfacts'\n",
      "No info for '8R-OH-R-HHC' on 'https://www.erowid.org/psychoactives/'\n"
     ]
    },
    {
     "name": "stderr",
     "output_type": "stream",
     "text": [
      " 18%|█▊        | 14/77 [05:37<25:18, 24.10s/it]"
     ]
    },
    {
     "name": "stdout",
     "output_type": "stream",
     "text": [
      "No info for '8R-OH-R-HHC' on 'https://www.Wikipedia.org'\n",
      "No info for '8S-OH-R-HHC' on 'https://www.drugbank.ca/drugs/'\n",
      "No info for '8S-OH-R-HHC' on 'https://pubchem.ncbi.nlm.nih.gov/'\n",
      "No info for '8S-OH-R-HHC' on 'https://psychonautwiki.org/wiki/List_of_pharmaceuticals'\n",
      "No info for '8S-OH-R-HHC' on 'https://psychonautwiki.org/wiki/Psychoactive_substance_index'\n",
      "No info for '8S-OH-R-HHC' on 'https://erowid.org/experiences/exp_front.php'\n",
      "No info for '8S-OH-R-HHC' on 'https://www.drugabuse.gov/publications/drugfacts'\n",
      "No info for '8S-OH-R-HHC' on 'https://www.erowid.org/psychoactives/'\n"
     ]
    },
    {
     "name": "stderr",
     "output_type": "stream",
     "text": [
      " 19%|█▉        | 15/77 [05:52<21:57, 21.26s/it]"
     ]
    },
    {
     "name": "stdout",
     "output_type": "stream",
     "text": [
      "No info for '8S-OH-R-HHC' on 'https://www.Wikipedia.org'\n",
      "No info for 'alpha-hydroxyalprazolam' on 'https://psychonautwiki.org/wiki/List_of_pharmaceuticals'\n",
      "No info for 'alpha-hydroxyalprazolam' on 'https://erowid.org/experiences/exp_front.php'\n",
      "No info for 'alpha-hydroxyalprazolam' on 'https://www.drugabuse.gov/publications/drugfacts'\n",
      "No info for 'alpha-hydroxyalprazolam' on 'https://www.erowid.org/psychoactives/'\n"
     ]
    },
    {
     "name": "stderr",
     "output_type": "stream",
     "text": [
      " 21%|██        | 16/77 [06:21<24:10, 23.78s/it]"
     ]
    },
    {
     "name": "stdout",
     "output_type": "stream",
     "text": [
      "No info for 'alpha-hydroxyalprazolam' on 'https://www.Wikipedia.org'\n",
      "No info for 'alpha-hydroxybromazolam' on 'https://psychonautwiki.org/wiki/List_of_pharmaceuticals'\n",
      "No info for 'alpha-hydroxybromazolam' on 'https://erowid.org/experiences/exp_front.php'\n",
      "No info for 'alpha-hydroxybromazolam' on 'https://www.drugabuse.gov/publications/drugfacts'\n",
      "No info for 'alpha-hydroxybromazolam' on 'https://www.erowid.org/psychoactives/'\n"
     ]
    },
    {
     "name": "stderr",
     "output_type": "stream",
     "text": [
      " 22%|██▏       | 17/77 [06:49<24:49, 24.83s/it]"
     ]
    },
    {
     "name": "stdout",
     "output_type": "stream",
     "text": [
      "No info for 'alpha-hydroxybromazolam' on 'https://www.Wikipedia.org'\n"
     ]
    },
    {
     "name": "stderr",
     "output_type": "stream",
     "text": [
      " 23%|██▎       | 18/77 [07:38<31:41, 32.24s/it]"
     ]
    },
    {
     "name": "stdout",
     "output_type": "stream",
     "text": [
      "No info for 'Benzoylecgonine' on 'https://psychonautwiki.org/wiki/List/substances-new'\n",
      "No info for 'Benzoylecgonine' on 'https://psychonautwiki.org/wiki/List_of_pharmaceuticals'\n",
      "No info for 'Benzoylecgonine' on 'https://psychonautwiki.org/wiki/Psychoactive_substance_index'\n",
      "No info for 'Benzoylecgonine' on 'https://erowid.org/experiences/exp_front.php'\n"
     ]
    },
    {
     "name": "stderr",
     "output_type": "stream",
     "text": [
      " 25%|██▍       | 19/77 [08:07<30:10, 31.22s/it]"
     ]
    },
    {
     "name": "stdout",
     "output_type": "stream",
     "text": [
      "No info for 'Bromazolam' on 'https://www.drugbank.ca/drugs/'\n",
      "No info for 'Bromazolam' on 'https://www.bluelight.org'\n",
      "No info for 'Bromazolam' on 'https://psychonautwiki.org/wiki/List/substances-new'\n",
      "No info for 'Bromazolam' on 'https://www.drugabuse.gov/publications/drugfacts'\n"
     ]
    },
    {
     "name": "stderr",
     "output_type": "stream",
     "text": [
      " 26%|██▌       | 20/77 [08:37<29:17, 30.83s/it]"
     ]
    },
    {
     "name": "stdout",
     "output_type": "stream",
     "text": [
      "No info for 'Bromazolam' on 'https://www.Wikipedia.org'\n"
     ]
    },
    {
     "name": "stderr",
     "output_type": "stream",
     "text": [
      " 27%|██▋       | 21/77 [09:29<34:44, 37.23s/it]"
     ]
    },
    {
     "name": "stdout",
     "output_type": "stream",
     "text": [
      "No info for 'Carfentanil' on 'https://psychonautwiki.org/wiki/List/substances-new'\n",
      "No info for 'Carfentanil' on 'https://erowid.org/experiences/exp_front.php'\n",
      "No info for 'Carfentanil' on 'https://www.drugabuse.gov/publications/drugfacts'\n",
      "No info for 'Carfentanil' on 'https://www.erowid.org/psychoactives/'\n"
     ]
    },
    {
     "name": "stderr",
     "output_type": "stream",
     "text": [
      " 29%|██▊       | 22/77 [09:55<31:01, 33.84s/it]"
     ]
    },
    {
     "name": "stdout",
     "output_type": "stream",
     "text": [
      "No info for 'Carfentanil' on 'https://www.Wikipedia.org'\n",
      "No info for 'CBD' on 'https://www.drugabuse.gov/publications/drugfacts'\n"
     ]
    },
    {
     "name": "stderr",
     "output_type": "stream",
     "text": [
      " 31%|███       | 24/77 [11:27<35:32, 40.24s/it]"
     ]
    },
    {
     "name": "stdout",
     "output_type": "stream",
     "text": [
      "No info for 'Cyclobenzaprine' on 'https://psychonautwiki.org/wiki/List/substances-new'\n",
      "No info for 'Cyclobenzaprine' on 'https://psychonautwiki.org/wiki/List_of_pharmaceuticals'\n",
      "No info for 'Cyclobenzaprine' on 'https://psychonautwiki.org/wiki/Psychoactive_substance_index'\n",
      "No info for 'Cyclobenzaprine' on 'https://www.drugabuse.gov/publications/drugfacts'\n",
      "No info for 'Cyclobenzaprine' on 'https://www.erowid.org/psychoactives/'\n"
     ]
    },
    {
     "name": "stderr",
     "output_type": "stream",
     "text": [
      " 32%|███▏      | 25/77 [11:50<30:21, 35.02s/it]"
     ]
    },
    {
     "name": "stdout",
     "output_type": "stream",
     "text": [
      "No info for 'delta-8-THC-COOH' on 'https://pubchem.ncbi.nlm.nih.gov/'\n",
      "No info for 'delta-8-THC-COOH' on 'https://psychonautwiki.org/wiki/Psychoactive_substance_index'\n",
      "No info for 'delta-8-THC-COOH' on 'https://erowid.org/experiences/exp_front.php'\n"
     ]
    },
    {
     "name": "stderr",
     "output_type": "stream",
     "text": [
      " 34%|███▍      | 26/77 [12:19<28:19, 33.33s/it]"
     ]
    },
    {
     "name": "stdout",
     "output_type": "stream",
     "text": [
      "No info for 'delta-9-THC-COOH' on 'https://psychonautwiki.org/wiki/List/substances-new'\n",
      "No info for 'delta-9-THC-COOH' on 'https://psychonautwiki.org/wiki/List_of_pharmaceuticals'\n",
      "No info for 'delta-9-THC-COOH' on 'https://psychonautwiki.org/wiki/Psychoactive_substance_index'\n",
      "No info for 'delta-9-THC-COOH' on 'https://erowid.org/experiences/exp_front.php'\n"
     ]
    },
    {
     "name": "stderr",
     "output_type": "stream",
     "text": [
      " 35%|███▌      | 27/77 [12:49<26:51, 32.22s/it]"
     ]
    },
    {
     "name": "stdout",
     "output_type": "stream",
     "text": [
      "No info for 'delta-9-THC-COOH' on 'https://www.Wikipedia.org'\n",
      "No info for 'Diphenhydramine' on 'https://www.drugabuse.gov/publications/drugfacts'\n"
     ]
    },
    {
     "name": "stderr",
     "output_type": "stream",
     "text": [
      " 36%|███▋      | 28/77 [13:32<28:53, 35.37s/it]"
     ]
    },
    {
     "name": "stdout",
     "output_type": "stream",
     "text": [
      "No info for 'EDDP' on 'https://psychonautwiki.org/wiki/List/substances-new'\n",
      "No info for 'EDDP' on 'https://psychonautwiki.org/wiki/List_of_pharmaceuticals'\n",
      "No info for 'EDDP' on 'https://psychonautwiki.org/wiki/Psychoactive_substance_index'\n",
      "No info for 'EDDP' on 'https://www.drugabuse.gov/publications/drugfacts'\n",
      "No info for 'EDDP' on 'https://www.erowid.org/psychoactives/'\n"
     ]
    },
    {
     "name": "stderr",
     "output_type": "stream",
     "text": [
      " 39%|███▉      | 30/77 [14:42<28:19, 36.15s/it]"
     ]
    },
    {
     "name": "stdout",
     "output_type": "stream",
     "text": [
      "No info for 'Flubromazepam' on 'https://erowid.org/experiences/exp_front.php'\n",
      "No info for 'Flubromazepam' on 'https://www.drugabuse.gov/publications/drugfacts'\n",
      "No info for 'Flubromazepam' on 'https://www.erowid.org/psychoactives/'\n"
     ]
    },
    {
     "name": "stderr",
     "output_type": "stream",
     "text": [
      " 40%|████      | 31/77 [15:18<27:45, 36.20s/it]"
     ]
    },
    {
     "name": "stdout",
     "output_type": "stream",
     "text": [
      "No info for 'Flubromazepam' on 'https://www.Wikipedia.org'\n",
      "No info for 'Gabapentin' on 'https://psychonautwiki.org/wiki/List_of_pharmaceuticals'\n",
      "No info for 'Gabapentin' on 'https://www.drugabuse.gov/publications/drugfacts'\n",
      "No info for 'Gabapentin' on 'https://www.erowid.org/psychoactives/'\n"
     ]
    },
    {
     "name": "stderr",
     "output_type": "stream",
     "text": [
      " 45%|████▌     | 35/77 [18:17<31:06, 44.45s/it]"
     ]
    },
    {
     "name": "stdout",
     "output_type": "stream",
     "text": [
      "No info for 'Lorazepam' on 'https://erowid.org/experiences/exp_front.php'\n",
      "No info for 'Lorazepam' on 'https://www.drugabuse.gov/publications/drugfacts'\n",
      "No info for 'Lorazepam' on 'https://www.erowid.org/psychoactives/'\n"
     ]
    },
    {
     "name": "stderr",
     "output_type": "stream",
     "text": [
      " 48%|████▊     | 37/77 [19:43<29:35, 44.39s/it]"
     ]
    },
    {
     "name": "stdout",
     "output_type": "stream",
     "text": [
      "No info for 'MDA' on 'https://psychonautwiki.org/wiki/List_of_pharmaceuticals'\n",
      "No info for 'MDA' on 'https://www.drugabuse.gov/publications/drugfacts'\n"
     ]
    },
    {
     "name": "stderr",
     "output_type": "stream",
     "text": [
      " 49%|████▉     | 38/77 [20:21<27:40, 42.58s/it]"
     ]
    },
    {
     "name": "stdout",
     "output_type": "stream",
     "text": [
      "No info for 'MDA' on 'https://www.Wikipedia.org'\n"
     ]
    },
    {
     "name": "stderr",
     "output_type": "stream",
     "text": [
      " 51%|█████     | 39/77 [21:14<29:02, 45.86s/it]"
     ]
    },
    {
     "name": "stdout",
     "output_type": "stream",
     "text": [
      "No info for 'MDMB-4en-PINACA butanoic acid' on 'https://www.drugbank.ca/drugs/'\n",
      "No info for 'MDMB-4en-PINACA butanoic acid' on 'https://psychonautwiki.org/wiki/List/substances-new'\n",
      "No info for 'MDMB-4en-PINACA butanoic acid' on 'https://psychonautwiki.org/wiki/List_of_pharmaceuticals'\n",
      "No info for 'MDMB-4en-PINACA butanoic acid' on 'https://psychonautwiki.org/wiki/Psychoactive_substance_index'\n",
      "No info for 'MDMB-4en-PINACA butanoic acid' on 'https://erowid.org/experiences/exp_front.php'\n",
      "No info for 'MDMB-4en-PINACA butanoic acid' on 'https://www.drugabuse.gov/publications/drugfacts'\n",
      "No info for 'MDMB-4en-PINACA butanoic acid' on 'https://www.erowid.org/psychoactives/'\n"
     ]
    },
    {
     "name": "stderr",
     "output_type": "stream",
     "text": [
      " 52%|█████▏    | 40/77 [21:31<22:54, 37.15s/it]"
     ]
    },
    {
     "name": "stdout",
     "output_type": "stream",
     "text": [
      "No info for 'MDMB-4en-PINACA butanoic acid' on 'https://www.Wikipedia.org'\n",
      "No info for 'Meperidine' on 'https://psychonautwiki.org/wiki/List_of_pharmaceuticals'\n",
      "No info for 'Meperidine' on 'https://psychonautwiki.org/wiki/Psychoactive_substance_index'\n",
      "No info for 'Meperidine' on 'https://www.drugabuse.gov/publications/drugfacts'\n",
      "No info for 'Meperidine' on 'https://www.erowid.org/psychoactives/'\n"
     ]
    },
    {
     "name": "stderr",
     "output_type": "stream",
     "text": [
      " 53%|█████▎    | 41/77 [22:02<21:06, 35.18s/it]"
     ]
    },
    {
     "name": "stdout",
     "output_type": "stream",
     "text": [
      "No info for 'Meprobamate' on 'https://psychonautwiki.org/wiki/List/substances-new'\n",
      "No info for 'Meprobamate' on 'https://erowid.org/experiences/exp_front.php'\n"
     ]
    },
    {
     "name": "stderr",
     "output_type": "stream",
     "text": [
      " 55%|█████▍    | 42/77 [22:40<21:01, 36.04s/it]"
     ]
    },
    {
     "name": "stdout",
     "output_type": "stream",
     "text": [
      "No info for 'Methadone' on 'https://www.drugabuse.gov/publications/drugfacts'\n"
     ]
    },
    {
     "name": "stderr",
     "output_type": "stream",
     "text": [
      " 57%|█████▋    | 44/77 [24:21<23:52, 43.40s/it]"
     ]
    },
    {
     "name": "stdout",
     "output_type": "stream",
     "text": [
      "No info for 'Metonitazene' on 'https://www.drugbank.ca/drugs/'\n",
      "No info for 'Metonitazene' on 'https://psychonautwiki.org/wiki/Psychoactive_substance_index'\n",
      "No info for 'Metonitazene' on 'https://erowid.org/experiences/exp_front.php'\n",
      "No info for 'Metonitazene' on 'https://www.drugabuse.gov/publications/drugfacts'\n",
      "No info for 'Metonitazene' on 'https://www.erowid.org/psychoactives/'\n"
     ]
    },
    {
     "name": "stderr",
     "output_type": "stream",
     "text": [
      " 58%|█████▊    | 45/77 [24:51<20:53, 39.17s/it]"
     ]
    },
    {
     "name": "stdout",
     "output_type": "stream",
     "text": [
      "No info for 'Metonitazene' on 'https://www.Wikipedia.org'\n",
      "No info for 'Mitragynine' on 'https://erowid.org/experiences/exp_front.php'\n"
     ]
    },
    {
     "name": "stderr",
     "output_type": "stream",
     "text": [
      " 61%|██████    | 47/77 [26:22<21:13, 42.47s/it]"
     ]
    },
    {
     "name": "stdout",
     "output_type": "stream",
     "text": [
      "No info for 'N,N-dimethylpentylone' on 'https://www.drugbank.ca/drugs/'\n",
      "No info for 'N,N-dimethylpentylone' on 'https://psychonautwiki.org/wiki/List/substances-new'\n",
      "No info for 'N,N-dimethylpentylone' on 'https://psychonautwiki.org/wiki/List_of_pharmaceuticals'\n",
      "No info for 'N,N-dimethylpentylone' on 'https://psychonautwiki.org/wiki/Psychoactive_substance_index'\n",
      "No info for 'N,N-dimethylpentylone' on 'https://erowid.org/experiences/exp_front.php'\n",
      "No info for 'N,N-dimethylpentylone' on 'https://www.drugabuse.gov/publications/drugfacts'\n",
      "No info for 'N,N-dimethylpentylone' on 'https://www.erowid.org/psychoactives/'\n"
     ]
    },
    {
     "name": "stderr",
     "output_type": "stream",
     "text": [
      " 62%|██████▏   | 48/77 [26:43<17:25, 36.06s/it]"
     ]
    },
    {
     "name": "stdout",
     "output_type": "stream",
     "text": [
      "No info for 'Naltrexone' on 'https://pubchem.ncbi.nlm.nih.gov/'\n",
      "No info for 'Naltrexone' on 'https://psychonautwiki.org/wiki/List/substances-new'\n",
      "No info for 'Naltrexone' on 'https://psychonautwiki.org/wiki/List_of_pharmaceuticals'\n",
      "No info for 'Naltrexone' on 'https://psychonautwiki.org/wiki/Psychoactive_substance_index'\n",
      "No info for 'Naltrexone' on 'https://erowid.org/experiences/exp_front.php'\n",
      "No info for 'Naltrexone' on 'https://www.drugabuse.gov/publications/drugfacts'\n",
      "No info for 'Naltrexone' on 'https://www.erowid.org/psychoactives/'\n"
     ]
    },
    {
     "name": "stderr",
     "output_type": "stream",
     "text": [
      " 64%|██████▎   | 49/77 [27:07<15:05, 32.32s/it]"
     ]
    },
    {
     "name": "stdout",
     "output_type": "stream",
     "text": [
      "No info for 'N-desethylmetonitazene' on 'https://psychonautwiki.org/wiki/List_of_pharmaceuticals'\n",
      "No info for 'N-desethylmetonitazene' on 'https://psychonautwiki.org/wiki/Psychoactive_substance_index'\n",
      "No info for 'N-desethylmetonitazene' on 'https://erowid.org/experiences/exp_front.php'\n",
      "No info for 'N-desethylmetonitazene' on 'https://www.drugabuse.gov/publications/drugfacts'\n",
      "No info for 'N-desethylmetonitazene' on 'https://www.erowid.org/psychoactives/'\n"
     ]
    },
    {
     "name": "stderr",
     "output_type": "stream",
     "text": [
      " 65%|██████▍   | 50/77 [27:28<13:06, 29.12s/it]"
     ]
    },
    {
     "name": "stdout",
     "output_type": "stream",
     "text": [
      "No info for 'N-desethylmetonitazene' on 'https://www.Wikipedia.org'\n",
      "No info for 'Norbuprenorphine' on 'https://psychonautwiki.org/wiki/List_of_pharmaceuticals'\n",
      "No info for 'Norbuprenorphine' on 'https://psychonautwiki.org/wiki/Psychoactive_substance_index'\n",
      "No info for 'Norbuprenorphine' on 'https://erowid.org/experiences/exp_front.php'\n",
      "No info for 'Norbuprenorphine' on 'https://www.drugabuse.gov/publications/drugfacts'\n",
      "No info for 'Norbuprenorphine' on 'https://www.erowid.org/psychoactives/'\n"
     ]
    },
    {
     "name": "stderr",
     "output_type": "stream",
     "text": [
      " 66%|██████▌   | 51/77 [27:59<12:50, 29.64s/it]"
     ]
    },
    {
     "name": "stdout",
     "output_type": "stream",
     "text": [
      "No info for 'Norcarfentanil' on 'https://www.bluelight.org'\n",
      "No info for 'Norcarfentanil' on 'https://psychonautwiki.org/wiki/List/substances-new'\n",
      "No info for 'Norcarfentanil' on 'https://psychonautwiki.org/wiki/List_of_pharmaceuticals'\n",
      "No info for 'Norcarfentanil' on 'https://psychonautwiki.org/wiki/Psychoactive_substance_index'\n",
      "No info for 'Norcarfentanil' on 'https://erowid.org/experiences/exp_front.php'\n"
     ]
    },
    {
     "name": "stderr",
     "output_type": "stream",
     "text": [
      " 68%|██████▊   | 52/77 [28:27<12:10, 29.23s/it]"
     ]
    },
    {
     "name": "stdout",
     "output_type": "stream",
     "text": [
      "No info for 'Norcarfentanil' on 'https://www.Wikipedia.org'\n",
      "No info for 'Nordiazepam' on 'https://psychonautwiki.org/wiki/List/substances-new'\n",
      "No info for 'Nordiazepam' on 'https://www.drugabuse.gov/publications/drugfacts'\n",
      "No info for 'Nordiazepam' on 'https://www.erowid.org/psychoactives/'\n"
     ]
    },
    {
     "name": "stderr",
     "output_type": "stream",
     "text": [
      " 69%|██████▉   | 53/77 [28:57<11:47, 29.47s/it]"
     ]
    },
    {
     "name": "stdout",
     "output_type": "stream",
     "text": [
      "No info for 'Norfentanyl' on 'https://psychonautwiki.org/wiki/List/substances-new'\n",
      "No info for 'Norfentanyl' on 'https://psychonautwiki.org/wiki/List_of_pharmaceuticals'\n",
      "No info for 'Norfentanyl' on 'https://psychonautwiki.org/wiki/Psychoactive_substance_index'\n",
      "No info for 'Norfentanyl' on 'https://erowid.org/experiences/exp_front.php'\n",
      "No info for 'Norfentanyl' on 'https://www.drugabuse.gov/publications/drugfacts'\n",
      "No info for 'Norfentanyl' on 'https://www.erowid.org/psychoactives/'\n"
     ]
    },
    {
     "name": "stderr",
     "output_type": "stream",
     "text": [
      " 70%|███████   | 54/77 [29:18<10:18, 26.90s/it]"
     ]
    },
    {
     "name": "stdout",
     "output_type": "stream",
     "text": [
      "No info for 'Norfentanyl' on 'https://www.Wikipedia.org'\n",
      "No info for 'Norketamine' on 'https://erowid.org/experiences/exp_front.php'\n"
     ]
    },
    {
     "name": "stderr",
     "output_type": "stream",
     "text": [
      " 71%|███████▏  | 55/77 [29:57<11:08, 30.37s/it]"
     ]
    },
    {
     "name": "stdout",
     "output_type": "stream",
     "text": [
      "No info for 'Norketamine' on 'https://www.Wikipedia.org'\n",
      "No info for 'Normeperidine' on 'https://www.bluelight.org'\n",
      "No info for 'Normeperidine' on 'https://psychonautwiki.org/wiki/List/substances-new'\n",
      "No info for 'Normeperidine' on 'https://psychonautwiki.org/wiki/List_of_pharmaceuticals'\n",
      "No info for 'Normeperidine' on 'https://erowid.org/experiences/exp_front.php'\n",
      "No info for 'Normeperidine' on 'https://www.drugabuse.gov/publications/drugfacts'\n",
      "No info for 'Normeperidine' on 'https://www.erowid.org/psychoactives/'\n"
     ]
    },
    {
     "name": "stderr",
     "output_type": "stream",
     "text": [
      " 73%|███████▎  | 56/77 [30:25<10:21, 29.58s/it]"
     ]
    },
    {
     "name": "stdout",
     "output_type": "stream",
     "text": [
      "No info for 'Noroxycodone' on 'https://psychonautwiki.org/wiki/List/substances-new'\n",
      "No info for 'Noroxycodone' on 'https://psychonautwiki.org/wiki/List_of_pharmaceuticals'\n",
      "No info for 'Noroxycodone' on 'https://psychonautwiki.org/wiki/Psychoactive_substance_index'\n",
      "No info for 'Noroxycodone' on 'https://erowid.org/experiences/exp_front.php'\n",
      "No info for 'Noroxycodone' on 'https://www.drugabuse.gov/publications/drugfacts'\n"
     ]
    },
    {
     "name": "stderr",
     "output_type": "stream",
     "text": [
      " 74%|███████▍  | 57/77 [30:49<09:21, 28.07s/it]"
     ]
    },
    {
     "name": "stdout",
     "output_type": "stream",
     "text": [
      "No info for 'N-Pyrrolidinoetonitazene' on 'https://psychonautwiki.org/wiki/List/substances-new'\n",
      "No info for 'N-Pyrrolidinoetonitazene' on 'https://psychonautwiki.org/wiki/List_of_pharmaceuticals'\n",
      "No info for 'N-Pyrrolidinoetonitazene' on 'https://psychonautwiki.org/wiki/Psychoactive_substance_index'\n",
      "No info for 'N-Pyrrolidinoetonitazene' on 'https://erowid.org/experiences/exp_front.php'\n",
      "No info for 'N-Pyrrolidinoetonitazene' on 'https://www.drugabuse.gov/publications/drugfacts'\n",
      "No info for 'N-Pyrrolidinoetonitazene' on 'https://www.erowid.org/psychoactives/'\n"
     ]
    },
    {
     "name": "stderr",
     "output_type": "stream",
     "text": [
      " 75%|███████▌  | 58/77 [31:09<08:08, 25.69s/it]"
     ]
    },
    {
     "name": "stdout",
     "output_type": "stream",
     "text": [
      "No info for 'N-Pyrrolidinoetonitazene' on 'https://www.Wikipedia.org'\n"
     ]
    },
    {
     "name": "stderr",
     "output_type": "stream",
     "text": [
      " 77%|███████▋  | 59/77 [31:55<09:31, 31.76s/it]"
     ]
    },
    {
     "name": "stdout",
     "output_type": "stream",
     "text": [
      "No info for 'ortho-methylfentanyl' on 'https://www.drugbank.ca/drugs/'\n",
      "No info for 'ortho-methylfentanyl' on 'https://pubchem.ncbi.nlm.nih.gov/'\n",
      "No info for 'ortho-methylfentanyl' on 'https://psychonautwiki.org/wiki/List/substances-new'\n",
      "No info for 'ortho-methylfentanyl' on 'https://psychonautwiki.org/wiki/List_of_pharmaceuticals'\n",
      "No info for 'ortho-methylfentanyl' on 'https://psychonautwiki.org/wiki/Psychoactive_substance_index'\n",
      "No info for 'ortho-methylfentanyl' on 'https://erowid.org/experiences/exp_front.php'\n",
      "No info for 'ortho-methylfentanyl' on 'https://www.drugabuse.gov/publications/drugfacts'\n",
      "No info for 'ortho-methylfentanyl' on 'https://www.erowid.org/psychoactives/'\n"
     ]
    },
    {
     "name": "stderr",
     "output_type": "stream",
     "text": [
      " 78%|███████▊  | 60/77 [32:11<07:39, 27.05s/it]"
     ]
    },
    {
     "name": "stdout",
     "output_type": "stream",
     "text": [
      "No info for 'Oxazepam ' on 'https://www.drugabuse.gov/publications/drugfacts'\n",
      "No info for 'Oxazepam ' on 'https://www.erowid.org/psychoactives/'\n"
     ]
    },
    {
     "name": "stderr",
     "output_type": "stream",
     "text": [
      " 81%|████████  | 62/77 [33:49<09:41, 38.73s/it]"
     ]
    },
    {
     "name": "stdout",
     "output_type": "stream",
     "text": [
      "No info for 'Oxymorphone' on 'https://psychonautwiki.org/wiki/List/substances-new'\n",
      "No info for 'Oxymorphone' on 'https://psychonautwiki.org/wiki/List_of_pharmaceuticals'\n",
      "No info for 'Oxymorphone' on 'https://www.drugabuse.gov/publications/drugfacts'\n",
      "No info for 'Oxymorphone' on 'https://www.erowid.org/psychoactives/'\n"
     ]
    },
    {
     "name": "stderr",
     "output_type": "stream",
     "text": [
      " 82%|████████▏ | 63/77 [34:22<08:38, 37.00s/it]"
     ]
    },
    {
     "name": "stdout",
     "output_type": "stream",
     "text": [
      "No info for 'para-Fluorofentanyl' on 'https://psychonautwiki.org/wiki/List_of_pharmaceuticals'\n",
      "No info for 'para-Fluorofentanyl' on 'https://psychonautwiki.org/wiki/Psychoactive_substance_index'\n",
      "No info for 'para-Fluorofentanyl' on 'https://erowid.org/experiences/exp_front.php'\n",
      "No info for 'para-Fluorofentanyl' on 'https://www.drugabuse.gov/publications/drugfacts'\n",
      "No info for 'para-Fluorofentanyl' on 'https://www.erowid.org/psychoactives/'\n"
     ]
    },
    {
     "name": "stderr",
     "output_type": "stream",
     "text": [
      " 83%|████████▎ | 64/77 [34:47<07:13, 33.32s/it]"
     ]
    },
    {
     "name": "stdout",
     "output_type": "stream",
     "text": [
      "No info for 'para-Fluorofentanyl' on 'https://www.Wikipedia.org'\n",
      "No info for 'para-Fluoronorfentanyl' on 'https://pubchem.ncbi.nlm.nih.gov/'\n",
      "No info for 'para-Fluoronorfentanyl' on 'https://psychonautwiki.org/wiki/List/substances-new'\n",
      "No info for 'para-Fluoronorfentanyl' on 'https://psychonautwiki.org/wiki/List_of_pharmaceuticals'\n",
      "No info for 'para-Fluoronorfentanyl' on 'https://psychonautwiki.org/wiki/Psychoactive_substance_index'\n",
      "No info for 'para-Fluoronorfentanyl' on 'https://erowid.org/experiences/exp_front.php'\n",
      "No info for 'para-Fluoronorfentanyl' on 'https://www.drugabuse.gov/publications/drugfacts'\n",
      "No info for 'para-Fluoronorfentanyl' on 'https://www.erowid.org/psychoactives/'\n"
     ]
    },
    {
     "name": "stderr",
     "output_type": "stream",
     "text": [
      " 84%|████████▍ | 65/77 [35:04<05:39, 28.32s/it]"
     ]
    },
    {
     "name": "stdout",
     "output_type": "stream",
     "text": [
      "No info for 'para-Fluoronorfentanyl' on 'https://www.Wikipedia.org'\n",
      "No info for 'Pentylone' on 'https://www.drugbank.ca/drugs/'\n",
      "No info for 'Pentylone' on 'https://psychonautwiki.org/wiki/List_of_pharmaceuticals'\n",
      "No info for 'Pentylone' on 'https://erowid.org/experiences/exp_front.php'\n",
      "No info for 'Pentylone' on 'https://www.drugabuse.gov/publications/drugfacts'\n",
      "No info for 'Pentylone' on 'https://www.erowid.org/psychoactives/'\n"
     ]
    },
    {
     "name": "stderr",
     "output_type": "stream",
     "text": [
      " 87%|████████▋ | 67/77 [36:19<05:38, 33.89s/it]"
     ]
    },
    {
     "name": "stdout",
     "output_type": "stream",
     "text": [
      "No info for 'Pregabalin' on 'https://psychonautwiki.org/wiki/List_of_pharmaceuticals'\n",
      "No info for 'Pregabalin' on 'https://www.drugabuse.gov/publications/drugfacts'\n",
      "No info for 'Pregabalin' on 'https://www.erowid.org/psychoactives/'\n"
     ]
    },
    {
     "name": "stderr",
     "output_type": "stream",
     "text": [
      " 88%|████████▊ | 68/77 [36:53<05:06, 34.05s/it]"
     ]
    },
    {
     "name": "stdout",
     "output_type": "stream",
     "text": [
      "No info for 'Psilocin ' on 'https://www.drugabuse.gov/publications/drugfacts'\n"
     ]
    },
    {
     "name": "stderr",
     "output_type": "stream",
     "text": [
      " 90%|████████▉ | 69/77 [37:42<05:07, 38.44s/it]"
     ]
    },
    {
     "name": "stdout",
     "output_type": "stream",
     "text": [
      "No info for 'Psilocybin' on 'https://psychonautwiki.org/wiki/List_of_pharmaceuticals'\n",
      "No info for 'Psilocybin' on 'https://erowid.org/experiences/exp_front.php'\n",
      "No info for 'Psilocybin' on 'https://www.drugabuse.gov/publications/drugfacts'\n"
     ]
    },
    {
     "name": "stderr",
     "output_type": "stream",
     "text": [
      " 91%|█████████ | 70/77 [38:16<04:20, 37.24s/it]"
     ]
    },
    {
     "name": "stdout",
     "output_type": "stream",
     "text": [
      "No info for 'R-HHC-COOH' on 'https://www.drugbank.ca/drugs/'\n",
      "No info for 'R-HHC-COOH' on 'https://pubchem.ncbi.nlm.nih.gov/'\n",
      "No info for 'R-HHC-COOH' on 'https://psychonautwiki.org/wiki/List/substances-new'\n",
      "No info for 'R-HHC-COOH' on 'https://psychonautwiki.org/wiki/List_of_pharmaceuticals'\n",
      "No info for 'R-HHC-COOH' on 'https://psychonautwiki.org/wiki/Psychoactive_substance_index'\n",
      "No info for 'R-HHC-COOH' on 'https://www.drugabuse.gov/publications/drugfacts'\n",
      "No info for 'R-HHC-COOH' on 'https://www.erowid.org/psychoactives/'\n"
     ]
    },
    {
     "name": "stderr",
     "output_type": "stream",
     "text": [
      " 92%|█████████▏| 71/77 [38:33<03:07, 31.23s/it]"
     ]
    },
    {
     "name": "stdout",
     "output_type": "stream",
     "text": [
      "No info for 'R-HHC-COOH' on 'https://www.Wikipedia.org'\n",
      "No info for 'S-HHC-COOH' on 'https://pubchem.ncbi.nlm.nih.gov/'\n",
      "No info for 'S-HHC-COOH' on 'https://psychonautwiki.org/wiki/List/substances-new'\n",
      "No info for 'S-HHC-COOH' on 'https://psychonautwiki.org/wiki/List_of_pharmaceuticals'\n",
      "No info for 'S-HHC-COOH' on 'https://psychonautwiki.org/wiki/Psychoactive_substance_index'\n",
      "No info for 'S-HHC-COOH' on 'https://erowid.org/experiences/exp_front.php'\n",
      "No info for 'S-HHC-COOH' on 'https://www.drugabuse.gov/publications/drugfacts'\n",
      "No info for 'S-HHC-COOH' on 'https://www.erowid.org/psychoactives/'\n"
     ]
    },
    {
     "name": "stderr",
     "output_type": "stream",
     "text": [
      " 94%|█████████▎| 72/77 [38:48<02:11, 26.28s/it]"
     ]
    },
    {
     "name": "stdout",
     "output_type": "stream",
     "text": [
      "No info for 'S-HHC-COOH' on 'https://www.Wikipedia.org'\n",
      "No info for 'Speciociliatine ' on 'https://www.bluelight.org'\n",
      "No info for 'Speciociliatine ' on 'https://psychonautwiki.org/wiki/List_of_pharmaceuticals'\n",
      "No info for 'Speciociliatine ' on 'https://erowid.org/experiences/exp_front.php'\n",
      "No info for 'Speciociliatine ' on 'https://www.drugabuse.gov/publications/drugfacts'\n"
     ]
    },
    {
     "name": "stderr",
     "output_type": "stream",
     "text": [
      " 95%|█████████▍| 73/77 [39:23<01:55, 28.85s/it]"
     ]
    },
    {
     "name": "stdout",
     "output_type": "stream",
     "text": [
      "No info for 'Temazepam' on 'https://www.drugabuse.gov/publications/drugfacts'\n",
      "No info for 'Temazepam' on 'https://www.erowid.org/psychoactives/'\n"
     ]
    },
    {
     "name": "stderr",
     "output_type": "stream",
     "text": [
      " 96%|█████████▌| 74/77 [40:02<01:35, 31.89s/it]"
     ]
    },
    {
     "name": "stdout",
     "output_type": "stream",
     "text": [
      "No info for 'Xylazine' on 'https://psychonautwiki.org/wiki/List/substances-new'\n",
      "No info for 'Xylazine' on 'https://psychonautwiki.org/wiki/List_of_pharmaceuticals'\n",
      "No info for 'Xylazine' on 'https://psychonautwiki.org/wiki/Psychoactive_substance_index'\n",
      "No info for 'Xylazine' on 'https://erowid.org/experiences/exp_front.php'\n",
      "No info for 'Xylazine' on 'https://www.drugabuse.gov/publications/drugfacts'\n"
     ]
    },
    {
     "name": "stderr",
     "output_type": "stream",
     "text": [
      " 97%|█████████▋| 75/77 [40:26<00:58, 29.47s/it]"
     ]
    },
    {
     "name": "stdout",
     "output_type": "stream",
     "text": [
      "No info for 'Zolpidem ' on 'https://www.drugabuse.gov/publications/drugfacts'\n"
     ]
    },
    {
     "name": "stderr",
     "output_type": "stream",
     "text": [
      " 99%|█████████▊| 76/77 [41:16<00:35, 35.82s/it]"
     ]
    },
    {
     "name": "stdout",
     "output_type": "stream",
     "text": [
      "No info for 'Zopiclone' on 'https://www.drugabuse.gov/publications/drugfacts'\n"
     ]
    },
    {
     "name": "stderr",
     "output_type": "stream",
     "text": [
      "100%|██████████| 77/77 [42:10<00:00, 32.87s/it]\n"
     ]
    }
   ],
   "source": [
    "websites = [\n",
    "    \"https://www.drugbank.ca/drugs/\",\n",
    "    \"https://pubchem.ncbi.nlm.nih.gov/\",\n",
    "    \"https://www.bluelight.org\",\n",
    "    \"https://psychonautwiki.org/wiki/List/substances-new\",\n",
    "    \"https://psychonautwiki.org/wiki/List_of_pharmaceuticals\",\n",
    "    \"https://psychonautwiki.org/wiki/Psychoactive_substance_index\",\n",
    "    \"https://erowid.org/experiences/exp_front.php\",\n",
    "    \"https://www.drugabuse.gov/publications/drugfacts\",\n",
    "    \"https://www.erowid.org/psychoactives/\",\n",
    "    \"https://www.Wikipedia.org\",\n",
    "]\n",
    "\n",
    "for website in websites:\n",
    "    substances_of_interest[website] = None\n",
    "\n",
    "# Initialize columns to store website and response results.\n",
    "substances_of_interest[\"website\"] = None\n",
    "substances_of_interest[\"response\"] = None\n",
    "\n",
    "client = Anthropic(api_key=os.getenv('anthropic-first-key'))\n",
    "\n",
    "# Iterate over each row so we can update by index.\n",
    "for idx, row in tqdm(substances_of_interest.iterrows(), total=len(substances_of_interest)):\n",
    "    drug = row[\"drug\"]\n",
    "    for website in websites:\n",
    "        prompt = f\"\"\"You are tasked with exploring the website \"{website}\" to extract comprehensive, contextually rich information about the drug \"{drug}\". Your objectives are to:\n",
    "                    1. Identify detailed descriptions and contextual indicators regarding the drug, including properties, usage patterns, effects, and associated behaviors.\n",
    "                    2. Perform term sense disambiguation: if \"{drug}\" appears in multiple contexts or has several meanings, focus explicitly on those relating to its illicit use as a controlled substance.\n",
    "                    3. Extract synonyms, slang terms, street names, and related references that could be associated with \"{drug}\" in social media contexts, linking these to our drug knowledge base.\n",
    "                    4. Capture any contextual relationships between this drug and other substances, usage patterns, user communities, or distribution methods that appear on the website.\n",
    "                    5. Present the findings as a clear and simple paragraph without additional commentary or formatting.\n",
    "                    Possible synonyms for \"{drug}\" include: {row[\"most_likely_synonyms\"]}.\n",
    "                    If minimal or no relevant information is found for \"{drug}\" on this website, do not infer or fabricate details. Instead, return \"None\" with no other text.\n",
    "                    This output will serve as contextual training data for our retrieval-augmented generation system focused on detecting illicit drug references in social media text.\"\"\"\n",
    "        \n",
    "        # Use streaming for long operations\n",
    "        with client.messages.stream(\n",
    "            model=\"claude-3-7-sonnet-20250219\",\n",
    "            max_tokens=50000,\n",
    "            messages=[\n",
    "                {\"role\": \"user\", \"content\": prompt}\n",
    "            ]\n",
    "        ) as stream:\n",
    "            # Collect the full response from the stream\n",
    "            output_text = \"\"\n",
    "            for text in stream.text_stream:\n",
    "                output_text += text\n",
    "        \n",
    "        # Process the response\n",
    "        output_text = output_text.strip()\n",
    "        \n",
    "        # Access the response content; adjust the following if your API differs.\n",
    "        # output_text = response.content[0].text.strip()\n",
    "        if output_text.lower() == \"none\":\n",
    "            output_text = None\n",
    "            print(f\"No info for '{drug}' on '{website}'\")\n",
    "        else:\n",
    "            output_text = ftfy.fix_text(output_text)\n",
    "\n",
    "        substances_of_interest.at[idx, website] = output_text\n"
   ]
  },
  {
   "cell_type": "code",
   "execution_count": 10,
   "metadata": {},
   "outputs": [],
   "source": [
    "substances_of_interest.to_csv(r\"C:\\Users\\James\\OneDrive\\Kansas State University\\CIS 830\\Project_SparKG\\data\\drugs_with_data4.csv\", index=False, encoding=\"utf-8-sig\")"
   ]
  },
  {
   "cell_type": "code",
   "execution_count": 11,
   "metadata": {},
   "outputs": [
    {
     "name": "stdout",
     "output_type": "stream",
     "text": [
      "<class 'pandas.core.frame.DataFrame'>\n",
      "RangeIndex: 77 entries, 0 to 76\n",
      "Data columns (total 38 columns):\n",
      " #   Column                                                        Non-Null Count  Dtype  \n",
      "---  ------                                                        --------------  -----  \n",
      " 0   drug                                                          77 non-null     object \n",
      " 1   CID                                                           72 non-null     float64\n",
      " 2   pubchem_synonyms                                              72 non-null     object \n",
      " 3   psychonautwiki_Name                                           38 non-null     object \n",
      " 4   psychonautwiki_Synonyms                                       38 non-null     object \n",
      " 5   Pharmacology                                                  38 non-null     object \n",
      " 6   Effects                                                       38 non-null     object \n",
      " 7   Toxicity and Harm Potential                                   38 non-null     object \n",
      " 8   Legal Status                                                  38 non-null     object \n",
      " 9   DEA_name                                                      11 non-null     object \n",
      " 10  DEA_synonyms                                                  11 non-null     object \n",
      " 11  DrugBank_ID                                                   22 non-null     object \n",
      " 12  widely_discussed                                              22 non-null     object \n",
      " 13  GPT_synonyms                                                  22 non-null     object \n",
      " 14  dbid                                                          29 non-null     object \n",
      " 15  known                                                         29 non-null     object \n",
      " 16  misspellingPhon                                               11 non-null     object \n",
      " 17  edOne                                                         25 non-null     object \n",
      " 18  edTwo                                                         28 non-null     object \n",
      " 19  pillMark                                                      4 non-null      object \n",
      " 20  google_ms                                                     3 non-null      object \n",
      " 21  google_title                                                  18 non-null     object \n",
      " 22  google_snippet                                                18 non-null     object \n",
      " 23  ud_slang                                                      5 non-null      object \n",
      " 24  missed                                                        29 non-null     object \n",
      " 25  most_likely_synonyms                                          72 non-null     object \n",
      " 26  https://www.drugbank.ca/drugs/                                62 non-null     object \n",
      " 27  https://pubchem.ncbi.nlm.nih.gov/                             67 non-null     object \n",
      " 28  https://www.bluelight.org                                     68 non-null     object \n",
      " 29  https://psychonautwiki.org/wiki/List/substances-new           46 non-null     object \n",
      " 30  https://psychonautwiki.org/wiki/List_of_pharmaceuticals       35 non-null     object \n",
      " 31  https://psychonautwiki.org/wiki/Psychoactive_substance_index  45 non-null     object \n",
      " 32  https://erowid.org/experiences/exp_front.php                  34 non-null     object \n",
      " 33  https://www.drugabuse.gov/publications/drugfacts              23 non-null     object \n",
      " 34  https://www.erowid.org/psychoactives/                         38 non-null     object \n",
      " 35  https://www.Wikipedia.org                                     49 non-null     object \n",
      " 36  website                                                       0 non-null      object \n",
      " 37  response                                                      0 non-null      object \n",
      "dtypes: float64(1), object(37)\n",
      "memory usage: 23.0+ KB\n"
     ]
    }
   ],
   "source": [
    "substances_of_interest.info(verbose=True)"
   ]
  },
  {
   "cell_type": "code",
   "execution_count": 12,
   "metadata": {},
   "outputs": [
    {
     "data": {
      "text/html": [
       "<div>\n",
       "<style scoped>\n",
       "    .dataframe tbody tr th:only-of-type {\n",
       "        vertical-align: middle;\n",
       "    }\n",
       "\n",
       "    .dataframe tbody tr th {\n",
       "        vertical-align: top;\n",
       "    }\n",
       "\n",
       "    .dataframe thead th {\n",
       "        text-align: right;\n",
       "    }\n",
       "</style>\n",
       "<table border=\"1\" class=\"dataframe\">\n",
       "  <thead>\n",
       "    <tr style=\"text-align: right;\">\n",
       "      <th></th>\n",
       "      <th>drug</th>\n",
       "      <th>CID</th>\n",
       "      <th>pubchem_synonyms</th>\n",
       "      <th>psychonautwiki_Name</th>\n",
       "      <th>psychonautwiki_Synonyms</th>\n",
       "      <th>Pharmacology</th>\n",
       "      <th>Effects</th>\n",
       "      <th>Toxicity and Harm Potential</th>\n",
       "      <th>Legal Status</th>\n",
       "      <th>DEA_name</th>\n",
       "      <th>...</th>\n",
       "      <th>https://www.bluelight.org</th>\n",
       "      <th>https://psychonautwiki.org/wiki/List/substances-new</th>\n",
       "      <th>https://psychonautwiki.org/wiki/List_of_pharmaceuticals</th>\n",
       "      <th>https://psychonautwiki.org/wiki/Psychoactive_substance_index</th>\n",
       "      <th>https://erowid.org/experiences/exp_front.php</th>\n",
       "      <th>https://www.drugabuse.gov/publications/drugfacts</th>\n",
       "      <th>https://www.erowid.org/psychoactives/</th>\n",
       "      <th>https://www.Wikipedia.org</th>\n",
       "      <th>website</th>\n",
       "      <th>response</th>\n",
       "    </tr>\n",
       "  </thead>\n",
       "  <tbody>\n",
       "    <tr>\n",
       "      <th>0</th>\n",
       "      <td>2,6-Xylidine</td>\n",
       "      <td>6896.0</td>\n",
       "      <td>['2,6-Dimethylaniline', '87-62-7', '2,6-XYLIDI...</td>\n",
       "      <td>NaN</td>\n",
       "      <td>NaN</td>\n",
       "      <td>NaN</td>\n",
       "      <td>NaN</td>\n",
       "      <td>NaN</td>\n",
       "      <td>NaN</td>\n",
       "      <td>NaN</td>\n",
       "      <td>...</td>\n",
       "      <td>None</td>\n",
       "      <td>None</td>\n",
       "      <td>None</td>\n",
       "      <td>None</td>\n",
       "      <td>None</td>\n",
       "      <td>None</td>\n",
       "      <td>None</td>\n",
       "      <td>None</td>\n",
       "      <td>None</td>\n",
       "      <td>None</td>\n",
       "    </tr>\n",
       "    <tr>\n",
       "      <th>1</th>\n",
       "      <td>2-amino-5-chloropyridine</td>\n",
       "      <td>66174.0</td>\n",
       "      <td>['2-Amino-5-chloropyridine', '1072-98-6', '5-c...</td>\n",
       "      <td>NaN</td>\n",
       "      <td>NaN</td>\n",
       "      <td>NaN</td>\n",
       "      <td>NaN</td>\n",
       "      <td>NaN</td>\n",
       "      <td>NaN</td>\n",
       "      <td>NaN</td>\n",
       "      <td>...</td>\n",
       "      <td>None</td>\n",
       "      <td>None</td>\n",
       "      <td>None</td>\n",
       "      <td>None</td>\n",
       "      <td>None</td>\n",
       "      <td>None</td>\n",
       "      <td>None</td>\n",
       "      <td>None</td>\n",
       "      <td>None</td>\n",
       "      <td>None</td>\n",
       "    </tr>\n",
       "    <tr>\n",
       "      <th>2</th>\n",
       "      <td>2-fluoro-2-oxo PCE</td>\n",
       "      <td>168323041.0</td>\n",
       "      <td>['2-fluoro-2-oxo PCE (hydrochloride)', '285035...</td>\n",
       "      <td>NaN</td>\n",
       "      <td>NaN</td>\n",
       "      <td>NaN</td>\n",
       "      <td>NaN</td>\n",
       "      <td>NaN</td>\n",
       "      <td>NaN</td>\n",
       "      <td>NaN</td>\n",
       "      <td>...</td>\n",
       "      <td>I cannot perform real-time web scraping of ext...</td>\n",
       "      <td>None</td>\n",
       "      <td>None</td>\n",
       "      <td>None</td>\n",
       "      <td>None</td>\n",
       "      <td>None</td>\n",
       "      <td>None</td>\n",
       "      <td>None</td>\n",
       "      <td>None</td>\n",
       "      <td>None</td>\n",
       "    </tr>\n",
       "    <tr>\n",
       "      <th>3</th>\n",
       "      <td>2-Oxo-3-hydroxy-LSD</td>\n",
       "      <td>10155149.0</td>\n",
       "      <td>['2-Oxo-3-hydroxy-lysergide', '2-Oxo-3-hydroxy...</td>\n",
       "      <td>NaN</td>\n",
       "      <td>NaN</td>\n",
       "      <td>NaN</td>\n",
       "      <td>NaN</td>\n",
       "      <td>NaN</td>\n",
       "      <td>NaN</td>\n",
       "      <td>NaN</td>\n",
       "      <td>...</td>\n",
       "      <td>I cannot and will not browse or scrape the blu...</td>\n",
       "      <td>Based on my exploration of the provided websit...</td>\n",
       "      <td>Based on the provided URL and my knowledge, I ...</td>\n",
       "      <td>2-Oxo-3-hydroxy-LSD is not a psychoactive subs...</td>\n",
       "      <td>None</td>\n",
       "      <td>None</td>\n",
       "      <td>2-Oxo-3-hydroxy-LSD is not a primary psychoact...</td>\n",
       "      <td>None</td>\n",
       "      <td>None</td>\n",
       "      <td>None</td>\n",
       "    </tr>\n",
       "    <tr>\n",
       "      <th>4</th>\n",
       "      <td>3-hydroxy flubromazepam</td>\n",
       "      <td>13126012.0</td>\n",
       "      <td>['3-hydroxy Flubromazepam', '3-Hydroxyflubroma...</td>\n",
       "      <td>NaN</td>\n",
       "      <td>NaN</td>\n",
       "      <td>NaN</td>\n",
       "      <td>NaN</td>\n",
       "      <td>NaN</td>\n",
       "      <td>NaN</td>\n",
       "      <td>NaN</td>\n",
       "      <td>...</td>\n",
       "      <td>I cannot explore or scrape the website \"https:...</td>\n",
       "      <td>None</td>\n",
       "      <td>None</td>\n",
       "      <td>None</td>\n",
       "      <td>None</td>\n",
       "      <td>None</td>\n",
       "      <td>None</td>\n",
       "      <td>I cannot access the Wikipedia website in real-...</td>\n",
       "      <td>None</td>\n",
       "      <td>None</td>\n",
       "    </tr>\n",
       "    <tr>\n",
       "      <th>...</th>\n",
       "      <td>...</td>\n",
       "      <td>...</td>\n",
       "      <td>...</td>\n",
       "      <td>...</td>\n",
       "      <td>...</td>\n",
       "      <td>...</td>\n",
       "      <td>...</td>\n",
       "      <td>...</td>\n",
       "      <td>...</td>\n",
       "      <td>...</td>\n",
       "      <td>...</td>\n",
       "      <td>...</td>\n",
       "      <td>...</td>\n",
       "      <td>...</td>\n",
       "      <td>...</td>\n",
       "      <td>...</td>\n",
       "      <td>...</td>\n",
       "      <td>...</td>\n",
       "      <td>...</td>\n",
       "      <td>...</td>\n",
       "      <td>...</td>\n",
       "    </tr>\n",
       "    <tr>\n",
       "      <th>72</th>\n",
       "      <td>Speciociliatine</td>\n",
       "      <td>15560576.0</td>\n",
       "      <td>['Speciociliatine', '14382-79-7', 'Speciocilia...</td>\n",
       "      <td>NaN</td>\n",
       "      <td>NaN</td>\n",
       "      <td>NaN</td>\n",
       "      <td>NaN</td>\n",
       "      <td>NaN</td>\n",
       "      <td>NaN</td>\n",
       "      <td>NaN</td>\n",
       "      <td>...</td>\n",
       "      <td>None</td>\n",
       "      <td>Speciociliatine is one of the minor alkaloids ...</td>\n",
       "      <td>None</td>\n",
       "      <td>Speciociliatine is one of the minor alkaloids ...</td>\n",
       "      <td>None</td>\n",
       "      <td>None</td>\n",
       "      <td>Speciociliatine is a minor alkaloid found in t...</td>\n",
       "      <td>Speciociliatine is one of the indole alkaloids...</td>\n",
       "      <td>None</td>\n",
       "      <td>None</td>\n",
       "    </tr>\n",
       "    <tr>\n",
       "      <th>73</th>\n",
       "      <td>Temazepam</td>\n",
       "      <td>5391.0</td>\n",
       "      <td>['temazepam', 'Restoril', 'Hydroxydiazepam', '...</td>\n",
       "      <td>Temazepam</td>\n",
       "      <td>['Restoril', 'Temtabs', 'Normison', 'Temaz']</td>\n",
       "      <td>Temazepam is a benzodiazepine that acts as a p...</td>\n",
       "      <td>Common effects include pronounced sedation, re...</td>\n",
       "      <td>Temazepam, like other benzodiazepines, carries...</td>\n",
       "      <td>Temazepam is a prescription medication in most...</td>\n",
       "      <td>NaN</td>\n",
       "      <td>...</td>\n",
       "      <td>I cannot actively browse or search websites in...</td>\n",
       "      <td>Temazepam is a short-to-intermediate-acting be...</td>\n",
       "      <td>Temazepam is a benzodiazepine medication with ...</td>\n",
       "      <td>Temazepam is a benzodiazepine substance belong...</td>\n",
       "      <td>Temazepam is a benzodiazepine medication that ...</td>\n",
       "      <td>None</td>\n",
       "      <td>None</td>\n",
       "      <td>I cannot browse or explore websites in real-ti...</td>\n",
       "      <td>None</td>\n",
       "      <td>None</td>\n",
       "    </tr>\n",
       "    <tr>\n",
       "      <th>74</th>\n",
       "      <td>Xylazine</td>\n",
       "      <td>5707.0</td>\n",
       "      <td>['xylazine', '7361-61-7', 'N-(2,6-Dimethylphen...</td>\n",
       "      <td>Xylazine</td>\n",
       "      <td>['Rompun', 'Xilazina', 'Xylazin', 'Chanazine',...</td>\n",
       "      <td>Xylazine acts primarily as an α2-adrenergic re...</td>\n",
       "      <td>Users report sedation, marked drowsiness, anal...</td>\n",
       "      <td>Xylazine has a high toxicity risk when used ou...</td>\n",
       "      <td>Xylazine is not approved for human use and is ...</td>\n",
       "      <td>NaN</td>\n",
       "      <td>...</td>\n",
       "      <td>I cannot perform live web browsing or search t...</td>\n",
       "      <td>None</td>\n",
       "      <td>None</td>\n",
       "      <td>None</td>\n",
       "      <td>None</td>\n",
       "      <td>None</td>\n",
       "      <td>I cannot browse websites or access the interne...</td>\n",
       "      <td>I can't directly explore websites or access Wi...</td>\n",
       "      <td>None</td>\n",
       "      <td>None</td>\n",
       "    </tr>\n",
       "    <tr>\n",
       "      <th>75</th>\n",
       "      <td>Zolpidem</td>\n",
       "      <td>5732.0</td>\n",
       "      <td>['zolpidem', '82626-48-0', 'Zolpidemum', 'Zolp...</td>\n",
       "      <td>Zolpidem</td>\n",
       "      <td>['Ambien', 'Stilnox']</td>\n",
       "      <td>Zolpidem is a nonbenzodiazepine hypnotic that ...</td>\n",
       "      <td>At therapeutic doses, zolpidem induces rapid s...</td>\n",
       "      <td>While effective for short-term treatment of in...</td>\n",
       "      <td>Zolpidem is a prescription drug and is classif...</td>\n",
       "      <td>NaN</td>\n",
       "      <td>...</td>\n",
       "      <td>I cannot directly explore or crawl websites in...</td>\n",
       "      <td>Zolpidem (commonly known as Ambien) is a non-b...</td>\n",
       "      <td>Zolpidem is a nonbenzodiazepine sedative-hypno...</td>\n",
       "      <td>Zolpidem (commonly known as Ambien) is a non-b...</td>\n",
       "      <td>Zolpidem, commonly known as Ambien, appears in...</td>\n",
       "      <td>None</td>\n",
       "      <td>After exploring Erowid.org, Zolpidem (commonly...</td>\n",
       "      <td>I cannot actively explore the Wikipedia websit...</td>\n",
       "      <td>None</td>\n",
       "      <td>None</td>\n",
       "    </tr>\n",
       "    <tr>\n",
       "      <th>76</th>\n",
       "      <td>Zopiclone</td>\n",
       "      <td>5735.0</td>\n",
       "      <td>['zopiclone', '43200-80-2', 'Imovane', 'Zimova...</td>\n",
       "      <td>Zopiclone</td>\n",
       "      <td>['Zopiclone', 'Imovane', 'Zimovane', 'Amoban']</td>\n",
       "      <td>Zopiclone is a cyclopyrrolone derivative that ...</td>\n",
       "      <td>At therapeutic dosages, users experience sedat...</td>\n",
       "      <td>Although considered to have a relatively favor...</td>\n",
       "      <td>Zopiclone is a prescription-only medication in...</td>\n",
       "      <td>NaN</td>\n",
       "      <td>...</td>\n",
       "      <td>I cannot directly access or browse websites li...</td>\n",
       "      <td>Zopiclone is a sedative-hypnotic drug of the c...</td>\n",
       "      <td>Zopiclone is a non-benzodiazepine hypnotic age...</td>\n",
       "      <td>Zopiclone is a non-benzodiazepine sedative and...</td>\n",
       "      <td>Based on exploring the Erowid Experience Vault...</td>\n",
       "      <td>None</td>\n",
       "      <td>Based on my exploration of the Erowid website,...</td>\n",
       "      <td>I should note that I don't have the ability to...</td>\n",
       "      <td>None</td>\n",
       "      <td>None</td>\n",
       "    </tr>\n",
       "  </tbody>\n",
       "</table>\n",
       "<p>77 rows × 38 columns</p>\n",
       "</div>"
      ],
      "text/plain": [
       "                         drug          CID  \\\n",
       "0                2,6-Xylidine       6896.0   \n",
       "1   2-amino-5-chloropyridine       66174.0   \n",
       "2          2-fluoro-2-oxo PCE  168323041.0   \n",
       "3         2-Oxo-3-hydroxy-LSD   10155149.0   \n",
       "4     3-hydroxy flubromazepam   13126012.0   \n",
       "..                        ...          ...   \n",
       "72           Speciociliatine    15560576.0   \n",
       "73                  Temazepam       5391.0   \n",
       "74                   Xylazine       5707.0   \n",
       "75                  Zolpidem        5732.0   \n",
       "76                  Zopiclone       5735.0   \n",
       "\n",
       "                                     pubchem_synonyms psychonautwiki_Name  \\\n",
       "0   ['2,6-Dimethylaniline', '87-62-7', '2,6-XYLIDI...                 NaN   \n",
       "1   ['2-Amino-5-chloropyridine', '1072-98-6', '5-c...                 NaN   \n",
       "2   ['2-fluoro-2-oxo PCE (hydrochloride)', '285035...                 NaN   \n",
       "3   ['2-Oxo-3-hydroxy-lysergide', '2-Oxo-3-hydroxy...                 NaN   \n",
       "4   ['3-hydroxy Flubromazepam', '3-Hydroxyflubroma...                 NaN   \n",
       "..                                                ...                 ...   \n",
       "72  ['Speciociliatine', '14382-79-7', 'Speciocilia...                 NaN   \n",
       "73  ['temazepam', 'Restoril', 'Hydroxydiazepam', '...           Temazepam   \n",
       "74  ['xylazine', '7361-61-7', 'N-(2,6-Dimethylphen...            Xylazine   \n",
       "75  ['zolpidem', '82626-48-0', 'Zolpidemum', 'Zolp...            Zolpidem   \n",
       "76  ['zopiclone', '43200-80-2', 'Imovane', 'Zimova...           Zopiclone   \n",
       "\n",
       "                              psychonautwiki_Synonyms  \\\n",
       "0                                                 NaN   \n",
       "1                                                 NaN   \n",
       "2                                                 NaN   \n",
       "3                                                 NaN   \n",
       "4                                                 NaN   \n",
       "..                                                ...   \n",
       "72                                                NaN   \n",
       "73       ['Restoril', 'Temtabs', 'Normison', 'Temaz']   \n",
       "74  ['Rompun', 'Xilazina', 'Xylazin', 'Chanazine',...   \n",
       "75                              ['Ambien', 'Stilnox']   \n",
       "76     ['Zopiclone', 'Imovane', 'Zimovane', 'Amoban']   \n",
       "\n",
       "                                         Pharmacology  \\\n",
       "0                                                 NaN   \n",
       "1                                                 NaN   \n",
       "2                                                 NaN   \n",
       "3                                                 NaN   \n",
       "4                                                 NaN   \n",
       "..                                                ...   \n",
       "72                                                NaN   \n",
       "73  Temazepam is a benzodiazepine that acts as a p...   \n",
       "74  Xylazine acts primarily as an α2-adrenergic re...   \n",
       "75  Zolpidem is a nonbenzodiazepine hypnotic that ...   \n",
       "76  Zopiclone is a cyclopyrrolone derivative that ...   \n",
       "\n",
       "                                              Effects  \\\n",
       "0                                                 NaN   \n",
       "1                                                 NaN   \n",
       "2                                                 NaN   \n",
       "3                                                 NaN   \n",
       "4                                                 NaN   \n",
       "..                                                ...   \n",
       "72                                                NaN   \n",
       "73  Common effects include pronounced sedation, re...   \n",
       "74  Users report sedation, marked drowsiness, anal...   \n",
       "75  At therapeutic doses, zolpidem induces rapid s...   \n",
       "76  At therapeutic dosages, users experience sedat...   \n",
       "\n",
       "                          Toxicity and Harm Potential  \\\n",
       "0                                                 NaN   \n",
       "1                                                 NaN   \n",
       "2                                                 NaN   \n",
       "3                                                 NaN   \n",
       "4                                                 NaN   \n",
       "..                                                ...   \n",
       "72                                                NaN   \n",
       "73  Temazepam, like other benzodiazepines, carries...   \n",
       "74  Xylazine has a high toxicity risk when used ou...   \n",
       "75  While effective for short-term treatment of in...   \n",
       "76  Although considered to have a relatively favor...   \n",
       "\n",
       "                                         Legal Status DEA_name  ...  \\\n",
       "0                                                 NaN      NaN  ...   \n",
       "1                                                 NaN      NaN  ...   \n",
       "2                                                 NaN      NaN  ...   \n",
       "3                                                 NaN      NaN  ...   \n",
       "4                                                 NaN      NaN  ...   \n",
       "..                                                ...      ...  ...   \n",
       "72                                                NaN      NaN  ...   \n",
       "73  Temazepam is a prescription medication in most...      NaN  ...   \n",
       "74  Xylazine is not approved for human use and is ...      NaN  ...   \n",
       "75  Zolpidem is a prescription drug and is classif...      NaN  ...   \n",
       "76  Zopiclone is a prescription-only medication in...      NaN  ...   \n",
       "\n",
       "                            https://www.bluelight.org  \\\n",
       "0                                                None   \n",
       "1                                                None   \n",
       "2   I cannot perform real-time web scraping of ext...   \n",
       "3   I cannot and will not browse or scrape the blu...   \n",
       "4   I cannot explore or scrape the website \"https:...   \n",
       "..                                                ...   \n",
       "72                                               None   \n",
       "73  I cannot actively browse or search websites in...   \n",
       "74  I cannot perform live web browsing or search t...   \n",
       "75  I cannot directly explore or crawl websites in...   \n",
       "76  I cannot directly access or browse websites li...   \n",
       "\n",
       "   https://psychonautwiki.org/wiki/List/substances-new  \\\n",
       "0                                                None    \n",
       "1                                                None    \n",
       "2                                                None    \n",
       "3   Based on my exploration of the provided websit...    \n",
       "4                                                None    \n",
       "..                                                ...    \n",
       "72  Speciociliatine is one of the minor alkaloids ...    \n",
       "73  Temazepam is a short-to-intermediate-acting be...    \n",
       "74                                               None    \n",
       "75  Zolpidem (commonly known as Ambien) is a non-b...    \n",
       "76  Zopiclone is a sedative-hypnotic drug of the c...    \n",
       "\n",
       "   https://psychonautwiki.org/wiki/List_of_pharmaceuticals  \\\n",
       "0                                                None        \n",
       "1                                                None        \n",
       "2                                                None        \n",
       "3   Based on the provided URL and my knowledge, I ...        \n",
       "4                                                None        \n",
       "..                                                ...        \n",
       "72                                               None        \n",
       "73  Temazepam is a benzodiazepine medication with ...        \n",
       "74                                               None        \n",
       "75  Zolpidem is a nonbenzodiazepine sedative-hypno...        \n",
       "76  Zopiclone is a non-benzodiazepine hypnotic age...        \n",
       "\n",
       "   https://psychonautwiki.org/wiki/Psychoactive_substance_index  \\\n",
       "0                                                None             \n",
       "1                                                None             \n",
       "2                                                None             \n",
       "3   2-Oxo-3-hydroxy-LSD is not a psychoactive subs...             \n",
       "4                                                None             \n",
       "..                                                ...             \n",
       "72  Speciociliatine is one of the minor alkaloids ...             \n",
       "73  Temazepam is a benzodiazepine substance belong...             \n",
       "74                                               None             \n",
       "75  Zolpidem (commonly known as Ambien) is a non-b...             \n",
       "76  Zopiclone is a non-benzodiazepine sedative and...             \n",
       "\n",
       "         https://erowid.org/experiences/exp_front.php  \\\n",
       "0                                                None   \n",
       "1                                                None   \n",
       "2                                                None   \n",
       "3                                                None   \n",
       "4                                                None   \n",
       "..                                                ...   \n",
       "72                                               None   \n",
       "73  Temazepam is a benzodiazepine medication that ...   \n",
       "74                                               None   \n",
       "75  Zolpidem, commonly known as Ambien, appears in...   \n",
       "76  Based on exploring the Erowid Experience Vault...   \n",
       "\n",
       "   https://www.drugabuse.gov/publications/drugfacts  \\\n",
       "0                                              None   \n",
       "1                                              None   \n",
       "2                                              None   \n",
       "3                                              None   \n",
       "4                                              None   \n",
       "..                                              ...   \n",
       "72                                             None   \n",
       "73                                             None   \n",
       "74                                             None   \n",
       "75                                             None   \n",
       "76                                             None   \n",
       "\n",
       "                https://www.erowid.org/psychoactives/  \\\n",
       "0                                                None   \n",
       "1                                                None   \n",
       "2                                                None   \n",
       "3   2-Oxo-3-hydroxy-LSD is not a primary psychoact...   \n",
       "4                                                None   \n",
       "..                                                ...   \n",
       "72  Speciociliatine is a minor alkaloid found in t...   \n",
       "73                                               None   \n",
       "74  I cannot browse websites or access the interne...   \n",
       "75  After exploring Erowid.org, Zolpidem (commonly...   \n",
       "76  Based on my exploration of the Erowid website,...   \n",
       "\n",
       "                            https://www.Wikipedia.org website response  \n",
       "0                                                None    None     None  \n",
       "1                                                None    None     None  \n",
       "2                                                None    None     None  \n",
       "3                                                None    None     None  \n",
       "4   I cannot access the Wikipedia website in real-...    None     None  \n",
       "..                                                ...     ...      ...  \n",
       "72  Speciociliatine is one of the indole alkaloids...    None     None  \n",
       "73  I cannot browse or explore websites in real-ti...    None     None  \n",
       "74  I can't directly explore websites or access Wi...    None     None  \n",
       "75  I cannot actively explore the Wikipedia websit...    None     None  \n",
       "76  I should note that I don't have the ability to...    None     None  \n",
       "\n",
       "[77 rows x 38 columns]"
      ]
     },
     "execution_count": 12,
     "metadata": {},
     "output_type": "execute_result"
    }
   ],
   "source": [
    "substances_of_interest"
   ]
  }
 ],
 "metadata": {
  "kernelspec": {
   "display_name": "SparKG",
   "language": "python",
   "name": "python3"
  },
  "language_info": {
   "codemirror_mode": {
    "name": "ipython",
    "version": 3
   },
   "file_extension": ".py",
   "mimetype": "text/x-python",
   "name": "python",
   "nbconvert_exporter": "python",
   "pygments_lexer": "ipython3",
   "version": "3.12.9"
  }
 },
 "nbformat": 4,
 "nbformat_minor": 2
}
